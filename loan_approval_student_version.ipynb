{
  "nbformat": 4,
  "nbformat_minor": 0,
  "metadata": {
    "colab": {
      "name": "loan_approval_student_version.ipynb",
      "provenance": [],
      "collapsed_sections": [],
      "include_colab_link": true
    },
    "kernelspec": {
      "name": "python3",
      "display_name": "Python 3"
    },
    "language_info": {
      "name": "python"
    },
    "accelerator": "GPU"
  },
  "cells": [
    {
      "cell_type": "markdown",
      "metadata": {
        "id": "view-in-github",
        "colab_type": "text"
      },
      "source": [
        "<a href=\"https://colab.research.google.com/github/adrianbuendia1/DeepLearning-/blob/main/loan_approval_student_version.ipynb\" target=\"_parent\"><img src=\"https://colab.research.google.com/assets/colab-badge.svg\" alt=\"Open In Colab\"/></a>"
      ]
    },
    {
      "cell_type": "code",
      "execution_count": null,
      "metadata": {
        "id": "6ipqqgaw5TzQ"
      },
      "outputs": [],
      "source": [
        "from google.colab import drive\n",
        "drive.mount('/content/drive')\n",
        "\n",
        "import os\n",
        "os.chdir(\"/content/drive/MyDrive/DeepLearning/Mid_term\")"
      ]
    },
    {
      "cell_type": "code",
      "source": [
        "#Load libraries\n",
        "import pandas as pd\n",
        "import numpy as np\n",
        "import matplotlib.pyplot as plt\n",
        "import seaborn as sns"
      ],
      "metadata": {
        "id": "TSOq8ytc5vq7"
      },
      "execution_count": null,
      "outputs": []
    },
    {
      "cell_type": "markdown",
      "source": [
        "##1. Introduction\n",
        "The company seeks to automate (in real time) the loan qualifying procedure based on information given by customers while filling out an online application form. It is expected that the development of deep learning models that can help the company predict loan approval in accelerating decision-making process for determining whether an applicant is eligible for a loan or not. \n",
        "\n"
      ],
      "metadata": {
        "id": "ln5K9EDVX3bx"
      }
    },
    {
      "cell_type": "markdown",
      "source": [
        "##2. Data analysis\n",
        "These details are Gender, Marital Status, Education, Number of Dependents, Income, Loan Amount, Credit History and others. To automate this process, they have given a problem to identify the customers segments, those are eligible for loan amount so that they can specifically target these customers. Here they have provided a partial data set.\n",
        "\n",
        "We first load the loan data. Please print out the shape of 'loan_data'.  "
      ],
      "metadata": {
        "id": "rPjOpRy9YdMq"
      }
    },
    {
      "cell_type": "code",
      "source": [
        "#Load dataset\n",
        "loan_data=pd.read_csv('loan.csv')\n",
        "\n",
        "# start your code here\n",
        "n_record,n_category= loan_data.shape[0], loan_data.shape[1]\n",
        "# end your code here\n",
        "print('There are %d records.' % n_record)\n",
        "print('Every record has %d categories' % n_category)"
      ],
      "metadata": {
        "colab": {
          "base_uri": "https://localhost:8080/"
        },
        "id": "h_Xh20Z052E7",
        "outputId": "33cdac56-5afe-445a-8056-c7730d8b636b"
      },
      "execution_count": null,
      "outputs": [
        {
          "output_type": "stream",
          "name": "stdout",
          "text": [
            "There are 614 records.\n",
            "Every record has 13 categories\n"
          ]
        }
      ]
    },
    {
      "cell_type": "markdown",
      "source": [
        "Expected output: \n",
        "\n",
        "```\n",
        "There are 614 records.\n",
        "Every record has 13 categories\n",
        "```\n",
        "\n",
        "Now, let's print the 1st 20 records of the loan data, and have a better understanding of what the data look like."
      ],
      "metadata": {
        "id": "TxMbQjUxaHkR"
      }
    },
    {
      "cell_type": "code",
      "source": [
        "loan_data.head(20)"
      ],
      "metadata": {
        "id": "teXuG33XZ9WR",
        "colab": {
          "base_uri": "https://localhost:8080/",
          "height": 810
        },
        "outputId": "7b82a305-6d07-4c96-dc33-6c0566be2e6b"
      },
      "execution_count": null,
      "outputs": [
        {
          "output_type": "execute_result",
          "data": {
            "text/html": [
              "\n",
              "  <div id=\"df-c8608db5-da84-4799-92c8-4bbd8d5d8eea\">\n",
              "    <div class=\"colab-df-container\">\n",
              "      <div>\n",
              "<style scoped>\n",
              "    .dataframe tbody tr th:only-of-type {\n",
              "        vertical-align: middle;\n",
              "    }\n",
              "\n",
              "    .dataframe tbody tr th {\n",
              "        vertical-align: top;\n",
              "    }\n",
              "\n",
              "    .dataframe thead th {\n",
              "        text-align: right;\n",
              "    }\n",
              "</style>\n",
              "<table border=\"1\" class=\"dataframe\">\n",
              "  <thead>\n",
              "    <tr style=\"text-align: right;\">\n",
              "      <th></th>\n",
              "      <th>Loan_ID</th>\n",
              "      <th>Gender</th>\n",
              "      <th>Married</th>\n",
              "      <th>Dependents</th>\n",
              "      <th>Education</th>\n",
              "      <th>Self_Employed</th>\n",
              "      <th>ApplicantIncome</th>\n",
              "      <th>CoapplicantIncome</th>\n",
              "      <th>LoanAmount</th>\n",
              "      <th>Loan_Amount_Term</th>\n",
              "      <th>Credit_History</th>\n",
              "      <th>Property_Area</th>\n",
              "      <th>Loan_Status</th>\n",
              "    </tr>\n",
              "  </thead>\n",
              "  <tbody>\n",
              "    <tr>\n",
              "      <th>0</th>\n",
              "      <td>LP001002</td>\n",
              "      <td>Male</td>\n",
              "      <td>No</td>\n",
              "      <td>0</td>\n",
              "      <td>Graduate</td>\n",
              "      <td>No</td>\n",
              "      <td>5849</td>\n",
              "      <td>0.0</td>\n",
              "      <td>NaN</td>\n",
              "      <td>360.0</td>\n",
              "      <td>1.0</td>\n",
              "      <td>Urban</td>\n",
              "      <td>Y</td>\n",
              "    </tr>\n",
              "    <tr>\n",
              "      <th>1</th>\n",
              "      <td>LP001003</td>\n",
              "      <td>Male</td>\n",
              "      <td>Yes</td>\n",
              "      <td>1</td>\n",
              "      <td>Graduate</td>\n",
              "      <td>No</td>\n",
              "      <td>4583</td>\n",
              "      <td>1508.0</td>\n",
              "      <td>128.0</td>\n",
              "      <td>360.0</td>\n",
              "      <td>1.0</td>\n",
              "      <td>Rural</td>\n",
              "      <td>N</td>\n",
              "    </tr>\n",
              "    <tr>\n",
              "      <th>2</th>\n",
              "      <td>LP001005</td>\n",
              "      <td>Male</td>\n",
              "      <td>Yes</td>\n",
              "      <td>0</td>\n",
              "      <td>Graduate</td>\n",
              "      <td>Yes</td>\n",
              "      <td>3000</td>\n",
              "      <td>0.0</td>\n",
              "      <td>66.0</td>\n",
              "      <td>360.0</td>\n",
              "      <td>1.0</td>\n",
              "      <td>Urban</td>\n",
              "      <td>Y</td>\n",
              "    </tr>\n",
              "    <tr>\n",
              "      <th>3</th>\n",
              "      <td>LP001006</td>\n",
              "      <td>Male</td>\n",
              "      <td>Yes</td>\n",
              "      <td>0</td>\n",
              "      <td>Not Graduate</td>\n",
              "      <td>No</td>\n",
              "      <td>2583</td>\n",
              "      <td>2358.0</td>\n",
              "      <td>120.0</td>\n",
              "      <td>360.0</td>\n",
              "      <td>1.0</td>\n",
              "      <td>Urban</td>\n",
              "      <td>Y</td>\n",
              "    </tr>\n",
              "    <tr>\n",
              "      <th>4</th>\n",
              "      <td>LP001008</td>\n",
              "      <td>Male</td>\n",
              "      <td>No</td>\n",
              "      <td>0</td>\n",
              "      <td>Graduate</td>\n",
              "      <td>No</td>\n",
              "      <td>6000</td>\n",
              "      <td>0.0</td>\n",
              "      <td>141.0</td>\n",
              "      <td>360.0</td>\n",
              "      <td>1.0</td>\n",
              "      <td>Urban</td>\n",
              "      <td>Y</td>\n",
              "    </tr>\n",
              "    <tr>\n",
              "      <th>5</th>\n",
              "      <td>LP001011</td>\n",
              "      <td>Male</td>\n",
              "      <td>Yes</td>\n",
              "      <td>2</td>\n",
              "      <td>Graduate</td>\n",
              "      <td>Yes</td>\n",
              "      <td>5417</td>\n",
              "      <td>4196.0</td>\n",
              "      <td>267.0</td>\n",
              "      <td>360.0</td>\n",
              "      <td>1.0</td>\n",
              "      <td>Urban</td>\n",
              "      <td>Y</td>\n",
              "    </tr>\n",
              "    <tr>\n",
              "      <th>6</th>\n",
              "      <td>LP001013</td>\n",
              "      <td>Male</td>\n",
              "      <td>Yes</td>\n",
              "      <td>0</td>\n",
              "      <td>Not Graduate</td>\n",
              "      <td>No</td>\n",
              "      <td>2333</td>\n",
              "      <td>1516.0</td>\n",
              "      <td>95.0</td>\n",
              "      <td>360.0</td>\n",
              "      <td>1.0</td>\n",
              "      <td>Urban</td>\n",
              "      <td>Y</td>\n",
              "    </tr>\n",
              "    <tr>\n",
              "      <th>7</th>\n",
              "      <td>LP001014</td>\n",
              "      <td>Male</td>\n",
              "      <td>Yes</td>\n",
              "      <td>3+</td>\n",
              "      <td>Graduate</td>\n",
              "      <td>No</td>\n",
              "      <td>3036</td>\n",
              "      <td>2504.0</td>\n",
              "      <td>158.0</td>\n",
              "      <td>360.0</td>\n",
              "      <td>0.0</td>\n",
              "      <td>Semiurban</td>\n",
              "      <td>N</td>\n",
              "    </tr>\n",
              "    <tr>\n",
              "      <th>8</th>\n",
              "      <td>LP001018</td>\n",
              "      <td>Male</td>\n",
              "      <td>Yes</td>\n",
              "      <td>2</td>\n",
              "      <td>Graduate</td>\n",
              "      <td>No</td>\n",
              "      <td>4006</td>\n",
              "      <td>1526.0</td>\n",
              "      <td>168.0</td>\n",
              "      <td>360.0</td>\n",
              "      <td>1.0</td>\n",
              "      <td>Urban</td>\n",
              "      <td>Y</td>\n",
              "    </tr>\n",
              "    <tr>\n",
              "      <th>9</th>\n",
              "      <td>LP001020</td>\n",
              "      <td>Male</td>\n",
              "      <td>Yes</td>\n",
              "      <td>1</td>\n",
              "      <td>Graduate</td>\n",
              "      <td>No</td>\n",
              "      <td>12841</td>\n",
              "      <td>10968.0</td>\n",
              "      <td>349.0</td>\n",
              "      <td>360.0</td>\n",
              "      <td>1.0</td>\n",
              "      <td>Semiurban</td>\n",
              "      <td>N</td>\n",
              "    </tr>\n",
              "    <tr>\n",
              "      <th>10</th>\n",
              "      <td>LP001024</td>\n",
              "      <td>Male</td>\n",
              "      <td>Yes</td>\n",
              "      <td>2</td>\n",
              "      <td>Graduate</td>\n",
              "      <td>No</td>\n",
              "      <td>3200</td>\n",
              "      <td>700.0</td>\n",
              "      <td>70.0</td>\n",
              "      <td>360.0</td>\n",
              "      <td>1.0</td>\n",
              "      <td>Urban</td>\n",
              "      <td>Y</td>\n",
              "    </tr>\n",
              "    <tr>\n",
              "      <th>11</th>\n",
              "      <td>LP001027</td>\n",
              "      <td>Male</td>\n",
              "      <td>Yes</td>\n",
              "      <td>2</td>\n",
              "      <td>Graduate</td>\n",
              "      <td>NaN</td>\n",
              "      <td>2500</td>\n",
              "      <td>1840.0</td>\n",
              "      <td>109.0</td>\n",
              "      <td>360.0</td>\n",
              "      <td>1.0</td>\n",
              "      <td>Urban</td>\n",
              "      <td>Y</td>\n",
              "    </tr>\n",
              "    <tr>\n",
              "      <th>12</th>\n",
              "      <td>LP001028</td>\n",
              "      <td>Male</td>\n",
              "      <td>Yes</td>\n",
              "      <td>2</td>\n",
              "      <td>Graduate</td>\n",
              "      <td>No</td>\n",
              "      <td>3073</td>\n",
              "      <td>8106.0</td>\n",
              "      <td>200.0</td>\n",
              "      <td>360.0</td>\n",
              "      <td>1.0</td>\n",
              "      <td>Urban</td>\n",
              "      <td>Y</td>\n",
              "    </tr>\n",
              "    <tr>\n",
              "      <th>13</th>\n",
              "      <td>LP001029</td>\n",
              "      <td>Male</td>\n",
              "      <td>No</td>\n",
              "      <td>0</td>\n",
              "      <td>Graduate</td>\n",
              "      <td>No</td>\n",
              "      <td>1853</td>\n",
              "      <td>2840.0</td>\n",
              "      <td>114.0</td>\n",
              "      <td>360.0</td>\n",
              "      <td>1.0</td>\n",
              "      <td>Rural</td>\n",
              "      <td>N</td>\n",
              "    </tr>\n",
              "    <tr>\n",
              "      <th>14</th>\n",
              "      <td>LP001030</td>\n",
              "      <td>Male</td>\n",
              "      <td>Yes</td>\n",
              "      <td>2</td>\n",
              "      <td>Graduate</td>\n",
              "      <td>No</td>\n",
              "      <td>1299</td>\n",
              "      <td>1086.0</td>\n",
              "      <td>17.0</td>\n",
              "      <td>120.0</td>\n",
              "      <td>1.0</td>\n",
              "      <td>Urban</td>\n",
              "      <td>Y</td>\n",
              "    </tr>\n",
              "    <tr>\n",
              "      <th>15</th>\n",
              "      <td>LP001032</td>\n",
              "      <td>Male</td>\n",
              "      <td>No</td>\n",
              "      <td>0</td>\n",
              "      <td>Graduate</td>\n",
              "      <td>No</td>\n",
              "      <td>4950</td>\n",
              "      <td>0.0</td>\n",
              "      <td>125.0</td>\n",
              "      <td>360.0</td>\n",
              "      <td>1.0</td>\n",
              "      <td>Urban</td>\n",
              "      <td>Y</td>\n",
              "    </tr>\n",
              "    <tr>\n",
              "      <th>16</th>\n",
              "      <td>LP001034</td>\n",
              "      <td>Male</td>\n",
              "      <td>No</td>\n",
              "      <td>1</td>\n",
              "      <td>Not Graduate</td>\n",
              "      <td>No</td>\n",
              "      <td>3596</td>\n",
              "      <td>0.0</td>\n",
              "      <td>100.0</td>\n",
              "      <td>240.0</td>\n",
              "      <td>NaN</td>\n",
              "      <td>Urban</td>\n",
              "      <td>Y</td>\n",
              "    </tr>\n",
              "    <tr>\n",
              "      <th>17</th>\n",
              "      <td>LP001036</td>\n",
              "      <td>Female</td>\n",
              "      <td>No</td>\n",
              "      <td>0</td>\n",
              "      <td>Graduate</td>\n",
              "      <td>No</td>\n",
              "      <td>3510</td>\n",
              "      <td>0.0</td>\n",
              "      <td>76.0</td>\n",
              "      <td>360.0</td>\n",
              "      <td>0.0</td>\n",
              "      <td>Urban</td>\n",
              "      <td>N</td>\n",
              "    </tr>\n",
              "    <tr>\n",
              "      <th>18</th>\n",
              "      <td>LP001038</td>\n",
              "      <td>Male</td>\n",
              "      <td>Yes</td>\n",
              "      <td>0</td>\n",
              "      <td>Not Graduate</td>\n",
              "      <td>No</td>\n",
              "      <td>4887</td>\n",
              "      <td>0.0</td>\n",
              "      <td>133.0</td>\n",
              "      <td>360.0</td>\n",
              "      <td>1.0</td>\n",
              "      <td>Rural</td>\n",
              "      <td>N</td>\n",
              "    </tr>\n",
              "    <tr>\n",
              "      <th>19</th>\n",
              "      <td>LP001041</td>\n",
              "      <td>Male</td>\n",
              "      <td>Yes</td>\n",
              "      <td>0</td>\n",
              "      <td>Graduate</td>\n",
              "      <td>NaN</td>\n",
              "      <td>2600</td>\n",
              "      <td>3500.0</td>\n",
              "      <td>115.0</td>\n",
              "      <td>NaN</td>\n",
              "      <td>1.0</td>\n",
              "      <td>Urban</td>\n",
              "      <td>Y</td>\n",
              "    </tr>\n",
              "  </tbody>\n",
              "</table>\n",
              "</div>\n",
              "      <button class=\"colab-df-convert\" onclick=\"convertToInteractive('df-c8608db5-da84-4799-92c8-4bbd8d5d8eea')\"\n",
              "              title=\"Convert this dataframe to an interactive table.\"\n",
              "              style=\"display:none;\">\n",
              "        \n",
              "  <svg xmlns=\"http://www.w3.org/2000/svg\" height=\"24px\"viewBox=\"0 0 24 24\"\n",
              "       width=\"24px\">\n",
              "    <path d=\"M0 0h24v24H0V0z\" fill=\"none\"/>\n",
              "    <path d=\"M18.56 5.44l.94 2.06.94-2.06 2.06-.94-2.06-.94-.94-2.06-.94 2.06-2.06.94zm-11 1L8.5 8.5l.94-2.06 2.06-.94-2.06-.94L8.5 2.5l-.94 2.06-2.06.94zm10 10l.94 2.06.94-2.06 2.06-.94-2.06-.94-.94-2.06-.94 2.06-2.06.94z\"/><path d=\"M17.41 7.96l-1.37-1.37c-.4-.4-.92-.59-1.43-.59-.52 0-1.04.2-1.43.59L10.3 9.45l-7.72 7.72c-.78.78-.78 2.05 0 2.83L4 21.41c.39.39.9.59 1.41.59.51 0 1.02-.2 1.41-.59l7.78-7.78 2.81-2.81c.8-.78.8-2.07 0-2.86zM5.41 20L4 18.59l7.72-7.72 1.47 1.35L5.41 20z\"/>\n",
              "  </svg>\n",
              "      </button>\n",
              "      \n",
              "  <style>\n",
              "    .colab-df-container {\n",
              "      display:flex;\n",
              "      flex-wrap:wrap;\n",
              "      gap: 12px;\n",
              "    }\n",
              "\n",
              "    .colab-df-convert {\n",
              "      background-color: #E8F0FE;\n",
              "      border: none;\n",
              "      border-radius: 50%;\n",
              "      cursor: pointer;\n",
              "      display: none;\n",
              "      fill: #1967D2;\n",
              "      height: 32px;\n",
              "      padding: 0 0 0 0;\n",
              "      width: 32px;\n",
              "    }\n",
              "\n",
              "    .colab-df-convert:hover {\n",
              "      background-color: #E2EBFA;\n",
              "      box-shadow: 0px 1px 2px rgba(60, 64, 67, 0.3), 0px 1px 3px 1px rgba(60, 64, 67, 0.15);\n",
              "      fill: #174EA6;\n",
              "    }\n",
              "\n",
              "    [theme=dark] .colab-df-convert {\n",
              "      background-color: #3B4455;\n",
              "      fill: #D2E3FC;\n",
              "    }\n",
              "\n",
              "    [theme=dark] .colab-df-convert:hover {\n",
              "      background-color: #434B5C;\n",
              "      box-shadow: 0px 1px 3px 1px rgba(0, 0, 0, 0.15);\n",
              "      filter: drop-shadow(0px 1px 2px rgba(0, 0, 0, 0.3));\n",
              "      fill: #FFFFFF;\n",
              "    }\n",
              "  </style>\n",
              "\n",
              "      <script>\n",
              "        const buttonEl =\n",
              "          document.querySelector('#df-c8608db5-da84-4799-92c8-4bbd8d5d8eea button.colab-df-convert');\n",
              "        buttonEl.style.display =\n",
              "          google.colab.kernel.accessAllowed ? 'block' : 'none';\n",
              "\n",
              "        async function convertToInteractive(key) {\n",
              "          const element = document.querySelector('#df-c8608db5-da84-4799-92c8-4bbd8d5d8eea');\n",
              "          const dataTable =\n",
              "            await google.colab.kernel.invokeFunction('convertToInteractive',\n",
              "                                                     [key], {});\n",
              "          if (!dataTable) return;\n",
              "\n",
              "          const docLinkHtml = 'Like what you see? Visit the ' +\n",
              "            '<a target=\"_blank\" href=https://colab.research.google.com/notebooks/data_table.ipynb>data table notebook</a>'\n",
              "            + ' to learn more about interactive tables.';\n",
              "          element.innerHTML = '';\n",
              "          dataTable['output_type'] = 'display_data';\n",
              "          await google.colab.output.renderOutput(dataTable, element);\n",
              "          const docLink = document.createElement('div');\n",
              "          docLink.innerHTML = docLinkHtml;\n",
              "          element.appendChild(docLink);\n",
              "        }\n",
              "      </script>\n",
              "    </div>\n",
              "  </div>\n",
              "  "
            ],
            "text/plain": [
              "     Loan_ID  Gender Married Dependents     Education Self_Employed  \\\n",
              "0   LP001002    Male      No          0      Graduate            No   \n",
              "1   LP001003    Male     Yes          1      Graduate            No   \n",
              "2   LP001005    Male     Yes          0      Graduate           Yes   \n",
              "3   LP001006    Male     Yes          0  Not Graduate            No   \n",
              "4   LP001008    Male      No          0      Graduate            No   \n",
              "5   LP001011    Male     Yes          2      Graduate           Yes   \n",
              "6   LP001013    Male     Yes          0  Not Graduate            No   \n",
              "7   LP001014    Male     Yes         3+      Graduate            No   \n",
              "8   LP001018    Male     Yes          2      Graduate            No   \n",
              "9   LP001020    Male     Yes          1      Graduate            No   \n",
              "10  LP001024    Male     Yes          2      Graduate            No   \n",
              "11  LP001027    Male     Yes          2      Graduate           NaN   \n",
              "12  LP001028    Male     Yes          2      Graduate            No   \n",
              "13  LP001029    Male      No          0      Graduate            No   \n",
              "14  LP001030    Male     Yes          2      Graduate            No   \n",
              "15  LP001032    Male      No          0      Graduate            No   \n",
              "16  LP001034    Male      No          1  Not Graduate            No   \n",
              "17  LP001036  Female      No          0      Graduate            No   \n",
              "18  LP001038    Male     Yes          0  Not Graduate            No   \n",
              "19  LP001041    Male     Yes          0      Graduate           NaN   \n",
              "\n",
              "    ApplicantIncome  CoapplicantIncome  LoanAmount  Loan_Amount_Term  \\\n",
              "0              5849                0.0         NaN             360.0   \n",
              "1              4583             1508.0       128.0             360.0   \n",
              "2              3000                0.0        66.0             360.0   \n",
              "3              2583             2358.0       120.0             360.0   \n",
              "4              6000                0.0       141.0             360.0   \n",
              "5              5417             4196.0       267.0             360.0   \n",
              "6              2333             1516.0        95.0             360.0   \n",
              "7              3036             2504.0       158.0             360.0   \n",
              "8              4006             1526.0       168.0             360.0   \n",
              "9             12841            10968.0       349.0             360.0   \n",
              "10             3200              700.0        70.0             360.0   \n",
              "11             2500             1840.0       109.0             360.0   \n",
              "12             3073             8106.0       200.0             360.0   \n",
              "13             1853             2840.0       114.0             360.0   \n",
              "14             1299             1086.0        17.0             120.0   \n",
              "15             4950                0.0       125.0             360.0   \n",
              "16             3596                0.0       100.0             240.0   \n",
              "17             3510                0.0        76.0             360.0   \n",
              "18             4887                0.0       133.0             360.0   \n",
              "19             2600             3500.0       115.0               NaN   \n",
              "\n",
              "    Credit_History Property_Area Loan_Status  \n",
              "0              1.0         Urban           Y  \n",
              "1              1.0         Rural           N  \n",
              "2              1.0         Urban           Y  \n",
              "3              1.0         Urban           Y  \n",
              "4              1.0         Urban           Y  \n",
              "5              1.0         Urban           Y  \n",
              "6              1.0         Urban           Y  \n",
              "7              0.0     Semiurban           N  \n",
              "8              1.0         Urban           Y  \n",
              "9              1.0     Semiurban           N  \n",
              "10             1.0         Urban           Y  \n",
              "11             1.0         Urban           Y  \n",
              "12             1.0         Urban           Y  \n",
              "13             1.0         Rural           N  \n",
              "14             1.0         Urban           Y  \n",
              "15             1.0         Urban           Y  \n",
              "16             NaN         Urban           Y  \n",
              "17             0.0         Urban           N  \n",
              "18             1.0         Rural           N  \n",
              "19             1.0         Urban           Y  "
            ]
          },
          "metadata": {},
          "execution_count": 15
        }
      ]
    },
    {
      "cell_type": "code",
      "source": [
        "loan_data.info()"
      ],
      "metadata": {
        "id": "x3GiZOSgN561",
        "colab": {
          "base_uri": "https://localhost:8080/"
        },
        "outputId": "22f1d02e-26c2-4c0a-e3de-aaf188cb8e41"
      },
      "execution_count": null,
      "outputs": [
        {
          "output_type": "stream",
          "name": "stdout",
          "text": [
            "<class 'pandas.core.frame.DataFrame'>\n",
            "RangeIndex: 614 entries, 0 to 613\n",
            "Data columns (total 13 columns):\n",
            " #   Column             Non-Null Count  Dtype  \n",
            "---  ------             --------------  -----  \n",
            " 0   Loan_ID            614 non-null    object \n",
            " 1   Gender             601 non-null    object \n",
            " 2   Married            611 non-null    object \n",
            " 3   Dependents         599 non-null    object \n",
            " 4   Education          614 non-null    object \n",
            " 5   Self_Employed      582 non-null    object \n",
            " 6   ApplicantIncome    614 non-null    int64  \n",
            " 7   CoapplicantIncome  614 non-null    float64\n",
            " 8   LoanAmount         592 non-null    float64\n",
            " 9   Loan_Amount_Term   600 non-null    float64\n",
            " 10  Credit_History     564 non-null    float64\n",
            " 11  Property_Area      614 non-null    object \n",
            " 12  Loan_Status        614 non-null    object \n",
            "dtypes: float64(4), int64(1), object(8)\n",
            "memory usage: 62.5+ KB\n"
          ]
        }
      ]
    },
    {
      "cell_type": "markdown",
      "source": [
        "We can see that there are 13 categories in the records. Please pay close attention to the data. Sometimes, there are `NaN` values. We will need to fix this later. Right now, Let's analyze the categories one by one. "
      ],
      "metadata": {
        "id": "W9_1TZsOZ8vS"
      }
    },
    {
      "cell_type": "markdown",
      "source": [
        "###2.1 Loan ID\n",
        "Loan ID is our 1st category. However, this category has no relevance to the approval status. Therefore, we will drop this category. Please print out the first 5 records of the 'loan_data' to make sure that the category 'Loan_ID' is dropped. Hint: check cells above to see how we print the first 20 records."
      ],
      "metadata": {
        "id": "BqRDMMNuZG5x"
      }
    },
    {
      "cell_type": "code",
      "source": [
        "loan_data = loan_data.drop(['Loan_ID'], axis = 1)\n",
        "\n",
        "#start your code here\n",
        "loan_data.head(5)\n",
        "# end your code here"
      ],
      "metadata": {
        "id": "9iMgtggnb6rB",
        "colab": {
          "base_uri": "https://localhost:8080/",
          "height": 287
        },
        "outputId": "a0c245c6-b1d7-413c-f1b1-cc2659995093"
      },
      "execution_count": null,
      "outputs": [
        {
          "output_type": "execute_result",
          "data": {
            "text/html": [
              "\n",
              "  <div id=\"df-f4e45e66-17e1-493a-a79f-1d87c12b7425\">\n",
              "    <div class=\"colab-df-container\">\n",
              "      <div>\n",
              "<style scoped>\n",
              "    .dataframe tbody tr th:only-of-type {\n",
              "        vertical-align: middle;\n",
              "    }\n",
              "\n",
              "    .dataframe tbody tr th {\n",
              "        vertical-align: top;\n",
              "    }\n",
              "\n",
              "    .dataframe thead th {\n",
              "        text-align: right;\n",
              "    }\n",
              "</style>\n",
              "<table border=\"1\" class=\"dataframe\">\n",
              "  <thead>\n",
              "    <tr style=\"text-align: right;\">\n",
              "      <th></th>\n",
              "      <th>Gender</th>\n",
              "      <th>Married</th>\n",
              "      <th>Dependents</th>\n",
              "      <th>Education</th>\n",
              "      <th>Self_Employed</th>\n",
              "      <th>ApplicantIncome</th>\n",
              "      <th>CoapplicantIncome</th>\n",
              "      <th>LoanAmount</th>\n",
              "      <th>Loan_Amount_Term</th>\n",
              "      <th>Credit_History</th>\n",
              "      <th>Property_Area</th>\n",
              "      <th>Loan_Status</th>\n",
              "    </tr>\n",
              "  </thead>\n",
              "  <tbody>\n",
              "    <tr>\n",
              "      <th>0</th>\n",
              "      <td>Male</td>\n",
              "      <td>No</td>\n",
              "      <td>0</td>\n",
              "      <td>Graduate</td>\n",
              "      <td>No</td>\n",
              "      <td>5849</td>\n",
              "      <td>0.0</td>\n",
              "      <td>NaN</td>\n",
              "      <td>360.0</td>\n",
              "      <td>1.0</td>\n",
              "      <td>Urban</td>\n",
              "      <td>Y</td>\n",
              "    </tr>\n",
              "    <tr>\n",
              "      <th>1</th>\n",
              "      <td>Male</td>\n",
              "      <td>Yes</td>\n",
              "      <td>1</td>\n",
              "      <td>Graduate</td>\n",
              "      <td>No</td>\n",
              "      <td>4583</td>\n",
              "      <td>1508.0</td>\n",
              "      <td>128.0</td>\n",
              "      <td>360.0</td>\n",
              "      <td>1.0</td>\n",
              "      <td>Rural</td>\n",
              "      <td>N</td>\n",
              "    </tr>\n",
              "    <tr>\n",
              "      <th>2</th>\n",
              "      <td>Male</td>\n",
              "      <td>Yes</td>\n",
              "      <td>0</td>\n",
              "      <td>Graduate</td>\n",
              "      <td>Yes</td>\n",
              "      <td>3000</td>\n",
              "      <td>0.0</td>\n",
              "      <td>66.0</td>\n",
              "      <td>360.0</td>\n",
              "      <td>1.0</td>\n",
              "      <td>Urban</td>\n",
              "      <td>Y</td>\n",
              "    </tr>\n",
              "    <tr>\n",
              "      <th>3</th>\n",
              "      <td>Male</td>\n",
              "      <td>Yes</td>\n",
              "      <td>0</td>\n",
              "      <td>Not Graduate</td>\n",
              "      <td>No</td>\n",
              "      <td>2583</td>\n",
              "      <td>2358.0</td>\n",
              "      <td>120.0</td>\n",
              "      <td>360.0</td>\n",
              "      <td>1.0</td>\n",
              "      <td>Urban</td>\n",
              "      <td>Y</td>\n",
              "    </tr>\n",
              "    <tr>\n",
              "      <th>4</th>\n",
              "      <td>Male</td>\n",
              "      <td>No</td>\n",
              "      <td>0</td>\n",
              "      <td>Graduate</td>\n",
              "      <td>No</td>\n",
              "      <td>6000</td>\n",
              "      <td>0.0</td>\n",
              "      <td>141.0</td>\n",
              "      <td>360.0</td>\n",
              "      <td>1.0</td>\n",
              "      <td>Urban</td>\n",
              "      <td>Y</td>\n",
              "    </tr>\n",
              "  </tbody>\n",
              "</table>\n",
              "</div>\n",
              "      <button class=\"colab-df-convert\" onclick=\"convertToInteractive('df-f4e45e66-17e1-493a-a79f-1d87c12b7425')\"\n",
              "              title=\"Convert this dataframe to an interactive table.\"\n",
              "              style=\"display:none;\">\n",
              "        \n",
              "  <svg xmlns=\"http://www.w3.org/2000/svg\" height=\"24px\"viewBox=\"0 0 24 24\"\n",
              "       width=\"24px\">\n",
              "    <path d=\"M0 0h24v24H0V0z\" fill=\"none\"/>\n",
              "    <path d=\"M18.56 5.44l.94 2.06.94-2.06 2.06-.94-2.06-.94-.94-2.06-.94 2.06-2.06.94zm-11 1L8.5 8.5l.94-2.06 2.06-.94-2.06-.94L8.5 2.5l-.94 2.06-2.06.94zm10 10l.94 2.06.94-2.06 2.06-.94-2.06-.94-.94-2.06-.94 2.06-2.06.94z\"/><path d=\"M17.41 7.96l-1.37-1.37c-.4-.4-.92-.59-1.43-.59-.52 0-1.04.2-1.43.59L10.3 9.45l-7.72 7.72c-.78.78-.78 2.05 0 2.83L4 21.41c.39.39.9.59 1.41.59.51 0 1.02-.2 1.41-.59l7.78-7.78 2.81-2.81c.8-.78.8-2.07 0-2.86zM5.41 20L4 18.59l7.72-7.72 1.47 1.35L5.41 20z\"/>\n",
              "  </svg>\n",
              "      </button>\n",
              "      \n",
              "  <style>\n",
              "    .colab-df-container {\n",
              "      display:flex;\n",
              "      flex-wrap:wrap;\n",
              "      gap: 12px;\n",
              "    }\n",
              "\n",
              "    .colab-df-convert {\n",
              "      background-color: #E8F0FE;\n",
              "      border: none;\n",
              "      border-radius: 50%;\n",
              "      cursor: pointer;\n",
              "      display: none;\n",
              "      fill: #1967D2;\n",
              "      height: 32px;\n",
              "      padding: 0 0 0 0;\n",
              "      width: 32px;\n",
              "    }\n",
              "\n",
              "    .colab-df-convert:hover {\n",
              "      background-color: #E2EBFA;\n",
              "      box-shadow: 0px 1px 2px rgba(60, 64, 67, 0.3), 0px 1px 3px 1px rgba(60, 64, 67, 0.15);\n",
              "      fill: #174EA6;\n",
              "    }\n",
              "\n",
              "    [theme=dark] .colab-df-convert {\n",
              "      background-color: #3B4455;\n",
              "      fill: #D2E3FC;\n",
              "    }\n",
              "\n",
              "    [theme=dark] .colab-df-convert:hover {\n",
              "      background-color: #434B5C;\n",
              "      box-shadow: 0px 1px 3px 1px rgba(0, 0, 0, 0.15);\n",
              "      filter: drop-shadow(0px 1px 2px rgba(0, 0, 0, 0.3));\n",
              "      fill: #FFFFFF;\n",
              "    }\n",
              "  </style>\n",
              "\n",
              "      <script>\n",
              "        const buttonEl =\n",
              "          document.querySelector('#df-f4e45e66-17e1-493a-a79f-1d87c12b7425 button.colab-df-convert');\n",
              "        buttonEl.style.display =\n",
              "          google.colab.kernel.accessAllowed ? 'block' : 'none';\n",
              "\n",
              "        async function convertToInteractive(key) {\n",
              "          const element = document.querySelector('#df-f4e45e66-17e1-493a-a79f-1d87c12b7425');\n",
              "          const dataTable =\n",
              "            await google.colab.kernel.invokeFunction('convertToInteractive',\n",
              "                                                     [key], {});\n",
              "          if (!dataTable) return;\n",
              "\n",
              "          const docLinkHtml = 'Like what you see? Visit the ' +\n",
              "            '<a target=\"_blank\" href=https://colab.research.google.com/notebooks/data_table.ipynb>data table notebook</a>'\n",
              "            + ' to learn more about interactive tables.';\n",
              "          element.innerHTML = '';\n",
              "          dataTable['output_type'] = 'display_data';\n",
              "          await google.colab.output.renderOutput(dataTable, element);\n",
              "          const docLink = document.createElement('div');\n",
              "          docLink.innerHTML = docLinkHtml;\n",
              "          element.appendChild(docLink);\n",
              "        }\n",
              "      </script>\n",
              "    </div>\n",
              "  </div>\n",
              "  "
            ],
            "text/plain": [
              "  Gender Married Dependents     Education Self_Employed  ApplicantIncome  \\\n",
              "0   Male      No          0      Graduate            No             5849   \n",
              "1   Male     Yes          1      Graduate            No             4583   \n",
              "2   Male     Yes          0      Graduate           Yes             3000   \n",
              "3   Male     Yes          0  Not Graduate            No             2583   \n",
              "4   Male      No          0      Graduate            No             6000   \n",
              "\n",
              "   CoapplicantIncome  LoanAmount  Loan_Amount_Term  Credit_History  \\\n",
              "0                0.0         NaN             360.0             1.0   \n",
              "1             1508.0       128.0             360.0             1.0   \n",
              "2                0.0        66.0             360.0             1.0   \n",
              "3             2358.0       120.0             360.0             1.0   \n",
              "4                0.0       141.0             360.0             1.0   \n",
              "\n",
              "  Property_Area Loan_Status  \n",
              "0         Urban           Y  \n",
              "1         Rural           N  \n",
              "2         Urban           Y  \n",
              "3         Urban           Y  \n",
              "4         Urban           Y  "
            ]
          },
          "metadata": {},
          "execution_count": 17
        }
      ]
    },
    {
      "cell_type": "markdown",
      "source": [
        "Expected output:\n",
        "![alt text](https://drive.google.com/uc?id=1F8Lve6Wx6lYuoMPCNaq_cLEzT1dY9Z__)"
      ],
      "metadata": {
        "id": "6Wt_B7HRcxPD"
      }
    },
    {
      "cell_type": "markdown",
      "source": [
        "### 2.2 Gender\n",
        "We would like to know among all these 614 records, how many of them are male, how many of them are female, how many of them are null entries."
      ],
      "metadata": {
        "id": "CtZKQmcweQEh"
      }
    },
    {
      "cell_type": "code",
      "source": [
        "gender_count=loan_data.Gender.value_counts(dropna=False) # count different values in 'Gender' category\n",
        "print(gender_count)\n",
        "sns.countplot(x=\"Gender\", data=loan_data, palette=\"hls\")\n",
        "plt.show()\n",
        "\n",
        "p_male=gender_count['Male']/n_record\n",
        "p_female=gender_count['Female']/n_record\n",
        "p_NaN=gender_count[-1]/n_record\n",
        "\n",
        "print('Percentage of Male: {:.2f}%'.format(p_male*100))\n",
        "print('Percentage of Female: {:.2f}%'.format(p_female*100))\n",
        "print('Percentage of missing value: {:.2f}%'.format(p_NaN*100))\n",
        "\n"
      ],
      "metadata": {
        "id": "w7VT-g_cTOZi",
        "colab": {
          "base_uri": "https://localhost:8080/",
          "height": 404
        },
        "outputId": "b73f4a49-bf60-482d-e25c-0a31968388ab"
      },
      "execution_count": null,
      "outputs": [
        {
          "output_type": "stream",
          "name": "stdout",
          "text": [
            "Male      489\n",
            "Female    112\n",
            "NaN        13\n",
            "Name: Gender, dtype: int64\n"
          ]
        },
        {
          "output_type": "display_data",
          "data": {
            "image/png": "[encoded data removed]",
            "text/plain": [
              "<Figure size 432x288 with 1 Axes>"
            ]
          },
          "metadata": {
            "needs_background": "light"
          }
        },
        {
          "output_type": "stream",
          "name": "stdout",
          "text": [
            "Percentage of Male: 79.64%\n",
            "Percentage of Female: 18.24%\n",
            "Percentage of missing value: 2.12%\n"
          ]
        }
      ]
    },
    {
      "cell_type": "markdown",
      "source": [
        "Conclusion: There are much more male applicants than female applicants. The missing value takes 2.12% of the records, a small portion of the whole records."
      ],
      "metadata": {
        "id": "XySXsEMUf9IY"
      }
    },
    {
      "cell_type": "markdown",
      "source": [
        "### 2.3 Married\n",
        "Please follow the same idea in section 2.2 to analyze the category 'Married' and make a conclusion at the end of this section."
      ],
      "metadata": {
        "id": "mTMDoW0Ekm9p"
      }
    },
    {
      "cell_type": "code",
      "source": [
        "# start your code here\n",
        "married_count=loan_data.Married.value_counts(dropna=False)\n",
        "print(married_count)\n",
        "sns.countplot(x=\"Married\",data=loan_data,palette=\"hls\")\n",
        "plt.show()\n",
        "p_yes=married_count['Yes']/n_record\n",
        "p_no=married_count['No']/n_record\n",
        "p_NaN=gender_count[-1]/n_record\n",
        "print('Percentage of Married: {:.2f}%'.format(p_yes*100))\n",
        "print('Percentage of un-married: {:.2f}%'.format(p_no*100))\n",
        "print('Percentage of missing value: {:.2f}%'.format(p_NaN*100))\n",
        "\n",
        "\n",
        "# end your code here"
      ],
      "metadata": {
        "id": "ih4V9qQMk2Cx",
        "colab": {
          "base_uri": "https://localhost:8080/",
          "height": 404
        },
        "outputId": "0634f7a5-6b17-43c3-b6c1-0cb27398dca5"
      },
      "execution_count": null,
      "outputs": [
        {
          "output_type": "stream",
          "name": "stdout",
          "text": [
            "Yes    398\n",
            "No     213\n",
            "NaN      3\n",
            "Name: Married, dtype: int64\n"
          ]
        },
        {
          "output_type": "display_data",
          "data": {
            "image/png": "[encoded data removed]",
            "text/plain": [
              "<Figure size 432x288 with 1 Axes>"
            ]
          },
          "metadata": {
            "needs_background": "light"
          }
        },
        {
          "output_type": "stream",
          "name": "stdout",
          "text": [
            "Percentage of Married: 64.82%\n",
            "Percentage of un-married: 34.69%\n",
            "Percentage of missing value: 2.12%\n"
          ]
        }
      ]
    },
    {
      "cell_type": "markdown",
      "source": [
        "Expected output:\n",
        "\n",
        "![alt text](https://drive.google.com/uc?id=1GbYJ8nHEgGximpRJMJFwQP4bIiP-luPN)\n",
        "\n",
        "Please make your conclusion here."
      ],
      "metadata": {
        "id": "yjcNhsh0lvsA"
      }
    },
    {
      "cell_type": "markdown",
      "source": [
        "Percentage of missing value is as low as 0.49%. The different between married and un-married is 30.13%.\n"
      ],
      "metadata": {
        "id": "Kc22NJ2T2uiV"
      }
    },
    {
      "cell_type": "markdown",
      "source": [
        "###2.4 Dependents\n",
        "\n",
        "Please follow the same idea in section 2.2 to analyze the category 'Dependents' and make a conclusion at the end of this section."
      ],
      "metadata": {
        "id": "QIJJxyenPt6m"
      }
    },
    {
      "cell_type": "code",
      "source": [
        "# start your code here\n",
        "dependents_count=loan_data.Dependents.value_counts(dropna=False)\n",
        "print(dependents_count)\n",
        "sns.countplot(x=\"Dependents\", data=loan_data, palette=\"hls\")\n",
        "plt.show()\n",
        "p_0=dependents_count['0']/n_record\n",
        "p_1=dependents_count['1']/n_record\n",
        "p_2=dependents_count['2']/n_record\n",
        "p_3plus=dependents_count['3+']/n_record\n",
        "p_NaN=dependents_count[-1]/n_record\n",
        "print('Percentage of 0 dependent: {:.2f}%'.format(p_0*100))\n",
        "print('Percentage of 1 dependent: {:.2f}%'.format(p_1*100))\n",
        "print('Percentage of 2 dependent: {:.2f}%'.format(p_2*100))\n",
        "print('Percentage of 3+ dependent: {:.2f}%'.format(p_3plus*100))\n",
        "print('Percentage of missing value: {:.2f}%'.format(p_NaN*100))\n",
        "# end your code here"
      ],
      "metadata": {
        "id": "wiy_fBFYUqm_",
        "colab": {
          "base_uri": "https://localhost:8080/",
          "height": 475
        },
        "outputId": "1661d5ab-a889-402b-9751-e8f87b323901"
      },
      "execution_count": null,
      "outputs": [
        {
          "output_type": "stream",
          "name": "stdout",
          "text": [
            "0      345\n",
            "1      102\n",
            "2      101\n",
            "3+      51\n",
            "NaN     15\n",
            "Name: Dependents, dtype: int64\n"
          ]
        },
        {
          "output_type": "display_data",
          "data": {
            "image/png": "[encoded data removed]",
            "text/plain": [
              "<Figure size 432x288 with 1 Axes>"
            ]
          },
          "metadata": {
            "needs_background": "light"
          }
        },
        {
          "output_type": "stream",
          "name": "stdout",
          "text": [
            "Percentage of 0 dependent: 56.19%\n",
            "Percentage of 1 dependent: 16.61%\n",
            "Percentage of 2 dependent: 16.45%\n",
            "Percentage of 3+ dependent: 8.31%\n",
            "Percentage of missing value: 2.44%\n"
          ]
        }
      ]
    },
    {
      "cell_type": "markdown",
      "source": [
        "Expected output:\n",
        "\n",
        "![alt text](https://drive.google.com/uc?id=1T05UzKCRuFpxUY4EJKzOZ-MQgFfSsR0v)\n",
        "\n",
        "Please make your conclusion here.\n"
      ],
      "metadata": {
        "id": "Pqq8EkHGVg_v"
      }
    },
    {
      "cell_type": "markdown",
      "source": [
        "Percentage of missing value is as low as 2.44%."
      ],
      "metadata": {
        "id": "zPU40HVv3h1E"
      }
    },
    {
      "cell_type": "markdown",
      "source": [
        "### 2.5 Education\n",
        "\n",
        "Please follow the same idea in section 2.2 to analyze the category 'Education' and make a conclusion at the end of this section."
      ],
      "metadata": {
        "id": "w_dxMnqsVq2Y"
      }
    },
    {
      "cell_type": "code",
      "source": [
        "# start your code here\n",
        "education_count=loan_data.Education.value_counts(dropna=False)# count different values in'G\n",
        "print(education_count)\n",
        "sns.countplot(x=\"Education\",data=loan_data,palette=\"hls\")\n",
        "plt.show()\n",
        "p_graduate=education_count['Graduate']/n_record\n",
        "p_non_graduate=education_count['Not Graduate']/n_record\n",
        "print('Percentage·of·graduate:·{:.2f}%'.format(p_graduate*100))\n",
        "print('Percentage·of·non·graduate:·{:.2f}%'.format(p_non_graduate*100))\n",
        "# end your code here"
      ],
      "metadata": {
        "id": "ICTH4fah6Ter",
        "colab": {
          "base_uri": "https://localhost:8080/",
          "height": 371
        },
        "outputId": "71842fd6-0d47-41fa-c74e-5848f0d58404"
      },
      "execution_count": null,
      "outputs": [
        {
          "output_type": "stream",
          "name": "stdout",
          "text": [
            "Graduate        480\n",
            "Not Graduate    134\n",
            "Name: Education, dtype: int64\n"
          ]
        },
        {
          "output_type": "display_data",
          "data": {
            "image/png": "[encoded data removed]",
            "text/plain": [
              "<Figure size 432x288 with 1 Axes>"
            ]
          },
          "metadata": {
            "needs_background": "light"
          }
        },
        {
          "output_type": "stream",
          "name": "stdout",
          "text": [
            "Percentage·of·graduate:·78.18%\n",
            "Percentage·of·non·graduate:·21.82%\n"
          ]
        }
      ]
    },
    {
      "cell_type": "markdown",
      "source": [
        "Expected output:\n",
        "\n",
        "![alt text](https://drive.google.com/uc?id=1uAg12JNPRvQCVZd6tPtYfUZH9Qqs4AR5)\n",
        "\n",
        "Please make your conclusion here."
      ],
      "metadata": {
        "id": "4JModFM4MqW9"
      }
    },
    {
      "cell_type": "markdown",
      "source": [
        "The difference of graduate and not graduate is 56.36%."
      ],
      "metadata": {
        "id": "FDUZISAu3sIb"
      }
    },
    {
      "cell_type": "markdown",
      "source": [
        "### 2.6 Self_Employed\n",
        "\n",
        "Please follow the same idea in section 2.2 to analyze the category 'Self_Employed' and make a conclusion at the end of this section."
      ],
      "metadata": {
        "id": "7_4Q2oXVWZnX"
      }
    },
    {
      "cell_type": "code",
      "source": [
        "# start your code here\n",
        "self_employed_count=loan_data.Self_Employed.value_counts(dropna=False) # count different valu\n",
        "print(self_employed_count)\n",
        "sns.countplot(x=\"Self_Employed\", data=loan_data, palette=\"hls\")\n",
        "plt.show()\n",
        "p_no=self_employed_count['No']/n_record\n",
        "p_yes=self_employed_count['Yes']/n_record\n",
        "p_NaN=self_employed_count[-1]/n_record\n",
        "print('Percentage of Male: {:.2f}%'.format(p_yes*100))\n",
        "print('Percentage of Female: {:.2f}%'.format(p_no*100))\n",
        "print('Percentage of missing value: {:.2f}%'.format(p_NaN*100))\n",
        "# end your code here"
      ],
      "metadata": {
        "id": "UlgHsGxSWZXf",
        "colab": {
          "base_uri": "https://localhost:8080/",
          "height": 405
        },
        "outputId": "114ea34c-82bd-4ab1-c011-3ef3ef19c919"
      },
      "execution_count": null,
      "outputs": [
        {
          "output_type": "stream",
          "name": "stdout",
          "text": [
            "No     500\n",
            "Yes     82\n",
            "NaN     32\n",
            "Name: Self_Employed, dtype: int64\n"
          ]
        },
        {
          "output_type": "display_data",
          "data": {
            "image/png": "[encoded data removed]",
            "text/plain": [
              "<Figure size 432x288 with 1 Axes>"
            ]
          },
          "metadata": {
            "needs_background": "light"
          }
        },
        {
          "output_type": "stream",
          "name": "stdout",
          "text": [
            "Percentage of Male: 13.36%\n",
            "Percentage of Female: 81.43%\n",
            "Percentage of missing value: 5.21%\n"
          ]
        }
      ]
    },
    {
      "cell_type": "markdown",
      "source": [
        "Expected output:\n",
        "\n",
        "![alt text](https://drive.google.com/uc?id=1SLZFuBWQpXL62a9ppu9i8An4WDruJOmi)\n",
        "\n",
        "Please make your conclusion here."
      ],
      "metadata": {
        "id": "XX2pO_eRM6Wg"
      }
    },
    {
      "cell_type": "markdown",
      "source": [
        "Percenatge of missing value is as low as 5.21%. The difference between self empolyed and not self employed is  68.07%."
      ],
      "metadata": {
        "id": "dKpRc2E_33mz"
      }
    },
    {
      "cell_type": "markdown",
      "source": [
        "### 2.7 Applicant income\n",
        "The applicant income has a large range of values, and the previous analysis method doesn't apply well in this case. We will use histogram to characterize the distribution of the income. \n",
        "\n",
        "From the plot, we can see that the income of most applicants are below $10,000, and are not evenly distributed. Normalization is definitly needed for this category. \n",
        "\n",
        "Besides, the distribution has a thin but long right tail. We will need to treat the right tail to make the distribution more concentrated.\n"
      ],
      "metadata": {
        "id": "NVVtsHW6Nstu"
      }
    },
    {
      "cell_type": "code",
      "source": [
        "sns.histplot(loan_data['ApplicantIncome'])\n",
        "plt.show()"
      ],
      "metadata": {
        "id": "5aTu1sdfNkKt",
        "colab": {
          "base_uri": "https://localhost:8080/",
          "height": 282
        },
        "outputId": "c677176f-fc4d-4d96-bc23-9c5fef5ec1ac"
      },
      "execution_count": null,
      "outputs": [
        {
          "output_type": "display_data",
          "data": {
            "image/png": "[encoded data removed]",
            "text/plain": [
              "<Figure size 432x288 with 1 Axes>"
            ]
          },
          "metadata": {
            "needs_background": "light"
          }
        }
      ]
    },
    {
      "cell_type": "markdown",
      "source": [
        "### 2.8 Coapplicant income\n",
        "Please use the same technique in Section 2.7 to analyze the distribution of the 'CoapplicantIncome' and give a brief discussion of it. "
      ],
      "metadata": {
        "id": "knM6OnNASkZN"
      }
    },
    {
      "cell_type": "code",
      "source": [
        "# start your code here\n",
        "sns.histplot(loan_data['CoapplicantIncome'])\n",
        "plt.show()\n",
        "# end your code here"
      ],
      "metadata": {
        "id": "ZPh72xMwTQse",
        "colab": {
          "base_uri": "https://localhost:8080/",
          "height": 279
        },
        "outputId": "d0a856a4-8aa5-4123-8260-d18f55bf2968"
      },
      "execution_count": null,
      "outputs": [
        {
          "output_type": "display_data",
          "data": {
            "image/png": "[encoded data removed]",
            "text/plain": [
              "<Figure size 432x288 with 1 Axes>"
            ]
          },
          "metadata": {
            "needs_background": "light"
          }
        }
      ]
    },
    {
      "cell_type": "markdown",
      "source": [
        "Expected output:\n",
        "\n",
        "![alt text](https://drive.google.com/uc?id=1Phqf9WgoHK6OZBuLLWhb8cexvn1bzqye)\n",
        "\n",
        "Discussion here: "
      ],
      "metadata": {
        "id": "8rl9yGVBNI4q"
      }
    },
    {
      "cell_type": "markdown",
      "source": [
        "### 2.9 Loan amount\n",
        "\n",
        "Please use the same technique in Section 2.7 to analyze the distribution of the 'LoanAmount' and give a brief discussion of it. "
      ],
      "metadata": {
        "id": "55q2YQObo0bL"
      }
    },
    {
      "cell_type": "code",
      "source": [
        "# start your code here\n",
        "sns.histplot(loan_data['LoanAmount'])\n",
        "plt.show()\n",
        "# end your code here"
      ],
      "metadata": {
        "id": "DZOGmydJpLf6",
        "colab": {
          "base_uri": "https://localhost:8080/",
          "height": 282
        },
        "outputId": "0ebd762f-29de-40e0-f528-5cbbe35d8ff6"
      },
      "execution_count": null,
      "outputs": [
        {
          "output_type": "display_data",
          "data": {
            "image/png": "[encoded data removed]",
            "text/plain": [
              "<Figure size 432x288 with 1 Axes>"
            ]
          },
          "metadata": {
            "needs_background": "light"
          }
        }
      ]
    },
    {
      "cell_type": "markdown",
      "source": [
        "Expected output:\n",
        "\n",
        "![alt text](https://drive.google.com/uc?id=1THtXJXErj8rMLcLMVAc1GIsInRajueKG)\n",
        "\n",
        "Discussion here: "
      ],
      "metadata": {
        "id": "T6ujW-lYNWcV"
      }
    },
    {
      "cell_type": "markdown",
      "source": [
        "### 2.10 Loan_amount_term\n",
        "\n",
        "Please use the same technique in Section 2.7 to analyze the distribution of the 'Loan_Amount_Term\t' and give a brief discussion of it. "
      ],
      "metadata": {
        "id": "cQdbshaKpgE_"
      }
    },
    {
      "cell_type": "code",
      "source": [
        "# start your code here\n",
        "sns.histplot(loan_data['Loan_Amount_Term'])\n",
        "plt.show()\n",
        "# end your code here"
      ],
      "metadata": {
        "id": "h1-nMdmLpk-H",
        "colab": {
          "base_uri": "https://localhost:8080/",
          "height": 280
        },
        "outputId": "5656f5bc-595e-4dce-b5be-00e8dc1d34b1"
      },
      "execution_count": null,
      "outputs": [
        {
          "output_type": "display_data",
          "data": {
            "image/png": "[encoded data removed]",
            "text/plain": [
              "<Figure size 432x288 with 1 Axes>"
            ]
          },
          "metadata": {
            "needs_background": "light"
          }
        }
      ]
    },
    {
      "cell_type": "markdown",
      "source": [
        "Expected output:\n",
        "\n",
        "![alt text](https://drive.google.com/uc?id=1UTKNr75TQKF626JWvAJJ6ItM_dgw3R2J)\n",
        "\n",
        "Discussion here: "
      ],
      "metadata": {
        "id": "At8T4sGlNoHd"
      }
    },
    {
      "cell_type": "markdown",
      "source": [
        "### 2.11 Credit history\n",
        "\n",
        "Please follow the same technique in section 2.7 to analyze the category 'Credit_History' and give a grief discusion."
      ],
      "metadata": {
        "id": "zsZh0TcWpwOK"
      }
    },
    {
      "cell_type": "code",
      "source": [
        "# start your code here\n",
        "sns.histplot(loan_data['Credit_History'])\n",
        "plt.show()\n",
        "# end your code here"
      ],
      "metadata": {
        "id": "C-KITQsIqvKa",
        "colab": {
          "base_uri": "https://localhost:8080/",
          "height": 280
        },
        "outputId": "83c4590e-9a96-4dc3-f07c-421d3fc6e441"
      },
      "execution_count": null,
      "outputs": [
        {
          "output_type": "display_data",
          "data": {
            "image/png": "[encoded data removed]",
            "text/plain": [
              "<Figure size 432x288 with 1 Axes>"
            ]
          },
          "metadata": {
            "needs_background": "light"
          }
        }
      ]
    },
    {
      "cell_type": "markdown",
      "source": [
        "Expected output:\n",
        "\n",
        "![alt text](https://drive.google.com/uc?id=1O03n_ZcFpIsr-lubli-g_IPwL6ZhGpr0)\n",
        "\n",
        "Discussion here: "
      ],
      "metadata": {
        "id": "wMImDaGYOdsJ"
      }
    },
    {
      "cell_type": "markdown",
      "source": [
        "### 2.12 Property area\n",
        "\n",
        "Please follow the same technique in section 2.2 to analyze the category 'Property_Area' and give a grief discusion."
      ],
      "metadata": {
        "id": "6nztT9CxrnOi"
      }
    },
    {
      "cell_type": "code",
      "source": [
        "# start your code here\n",
        "sns.histplot(loan_data['Property_Area'])\n",
        "plt.show()\n",
        "# end your code here"
      ],
      "metadata": {
        "id": "nuDfs869rvd6",
        "colab": {
          "base_uri": "https://localhost:8080/",
          "height": 280
        },
        "outputId": "af386ca2-3184-4d71-b7a6-8dcf5a3814cb"
      },
      "execution_count": null,
      "outputs": [
        {
          "output_type": "display_data",
          "data": {
            "image/png": "[encoded data removed]",
            "text/plain": [
              "<Figure size 432x288 with 1 Axes>"
            ]
          },
          "metadata": {
            "needs_background": "light"
          }
        }
      ]
    },
    {
      "cell_type": "markdown",
      "source": [
        "Expected output:\n",
        "\n",
        "![alt text](https://drive.google.com/uc?id=1ZQ0MRWAMe4fFTn9bF-M8ttIVDlJ1kysC)\n",
        "\n",
        "Discussion here: "
      ],
      "metadata": {
        "id": "U-En6frEOm-i"
      }
    },
    {
      "cell_type": "markdown",
      "source": [
        "###2.13 Loan Status\n",
        "Please follow the same technique in section 2.2 to analyze the category 'Loan_Status' and give a grief discusion."
      ],
      "metadata": {
        "id": "bcxUqcmrsaDR"
      }
    },
    {
      "cell_type": "code",
      "source": [
        "# start your code here\n",
        "loan_status_count=loan_data.Loan_Status.value_counts(dropna=False)\n",
        "print(loan_status_count)\n",
        "sns.countplot(x=\"Loan_Status\", data=loan_data, palette=\"hls\")\n",
        "plt.show()\n",
        "p_y=loan_status_count['Y']/n_record\n",
        "p_n=loan_status_count['N']/n_record\n",
        "print('Percentage of YES: {:.2f}%'.format(p_y*100))\n",
        "print('Percentage of No: {:.2f}%'.format(p_n*100))\n",
        "# end your code here"
      ],
      "metadata": {
        "id": "Qm45pLNpsTuy",
        "colab": {
          "base_uri": "https://localhost:8080/",
          "height": 369
        },
        "outputId": "1829fe47-3451-4534-ccd4-b77aaf5cf6d2"
      },
      "execution_count": null,
      "outputs": [
        {
          "output_type": "stream",
          "name": "stdout",
          "text": [
            "Y    422\n",
            "N    192\n",
            "Name: Loan_Status, dtype: int64\n"
          ]
        },
        {
          "output_type": "display_data",
          "data": {
            "image/png": "[encoded data removed]",
            "text/plain": [
              "<Figure size 432x288 with 1 Axes>"
            ]
          },
          "metadata": {
            "needs_background": "light"
          }
        },
        {
          "output_type": "stream",
          "name": "stdout",
          "text": [
            "Percentage of YES: 68.73%\n",
            "Percentage of No: 31.27%\n"
          ]
        }
      ]
    },
    {
      "cell_type": "markdown",
      "source": [
        "Expected output:\n",
        "\n",
        "![alt text](https://drive.google.com/uc?id=1KByUcd1F74SAneDWcUgj9_8Vbb-pOGz3)\n",
        "\n",
        "Discussion here: \n"
      ],
      "metadata": {
        "id": "OTHdCQCEO8-8"
      }
    },
    {
      "cell_type": "markdown",
      "source": [
        "## 3. Data preprocessing\n",
        "\n",
        "### 3.1 Data imputation"
      ],
      "metadata": {
        "id": "cyvSEgTuxyB6"
      }
    },
    {
      "cell_type": "code",
      "source": [
        "# Checking Null Values.\n",
        "loan_data.isnull().sum()"
      ],
      "metadata": {
        "id": "acd6Z2Zzz375",
        "colab": {
          "base_uri": "https://localhost:8080/"
        },
        "outputId": "1a181eba-3169-4821-83bb-474c59532be1"
      },
      "execution_count": null,
      "outputs": [
        {
          "output_type": "execute_result",
          "data": {
            "text/plain": [
              "Gender               13\n",
              "Married               3\n",
              "Dependents           15\n",
              "Education             0\n",
              "Self_Employed        32\n",
              "ApplicantIncome       0\n",
              "CoapplicantIncome     0\n",
              "LoanAmount           22\n",
              "Loan_Amount_Term     14\n",
              "Credit_History       50\n",
              "Property_Area         0\n",
              "Loan_Status           0\n",
              "dtype: int64"
            ]
          },
          "metadata": {},
          "execution_count": 34
        }
      ]
    },
    {
      "cell_type": "markdown",
      "source": [
        "There are missing values in Gender, Married, Dependents, Self_Employed, LoanAmount, Loan_Amount_Term, and Credit_History features.\n",
        "We will treat the missing values in all the features one by one.\n",
        "We can consider these methods to fill the missing values:\n",
        "\n",
        "* For numerical variables: imputation using mean or median\n",
        "* For categorical variables: imputation using mode\n",
        "\n",
        "There are very few missing values in Gender, Married, Dependents, Credit_History, and Self_Employed features so we can fill them using the mode of the features.\n",
        "\n",
        "The imputation of 'Gender' is given. Please use the same command to fill the missing values in category 'Married', 'Dependents', 'Self_Employed', and 'Credit_History'. "
      ],
      "metadata": {
        "id": "oyFliIlP0eZx"
      }
    },
    {
      "cell_type": "code",
      "source": [
        "loan_data['Gender'].fillna(loan_data['Gender'].mode()[0], inplace=True)\n",
        "# start your code here\n",
        "loan_data['Married'].fillna(loan_data['Married'].mode()[0], inplace=True)\n",
        "loan_data['Dependents'].fillna(loan_data['Dependents'].mode()[0], inplace=True)\n",
        "loan_data['Self_Employed'].fillna(loan_data['Self_Employed'].mode()[0], inplace=True)\n",
        "loan_data['Credit_History'].fillna(loan_data['Credit_History'].mode()[0], inplace=True)\n",
        "# end your code here"
      ],
      "metadata": {
        "id": "DKMm_PTrydqp"
      },
      "execution_count": null,
      "outputs": []
    },
    {
      "cell_type": "markdown",
      "source": [
        "For numerical variables like LoanAmount and Loan_Amount_Term, we fill the missing values with their medians. The imputation of 'Loan_Amount_Term' is given. Please use the same command to fill the missing values in category 'LoanAmount'. "
      ],
      "metadata": {
        "id": "5qg9DX5n1PL7"
      }
    },
    {
      "cell_type": "code",
      "source": [
        "loan_data['Loan_Amount_Term'].fillna(loan_data['Loan_Amount_Term'].median(),inplace = True)\n",
        "# start your code here\n",
        "loan_data['LoanAmount'].fillna(loan_data['LoanAmount'].median(),inplace = True)\n",
        "# end your code here"
      ],
      "metadata": {
        "id": "86CFt8ZM1xPQ"
      },
      "execution_count": null,
      "outputs": []
    },
    {
      "cell_type": "markdown",
      "source": [
        "Now, let's print out the data to see whether we fill the missing values with reasonable values. You can compare the table below with the table in the beginning to see the differences. "
      ],
      "metadata": {
        "id": "vcvwDDAjbVI5"
      }
    },
    {
      "cell_type": "code",
      "source": [
        "loan_data.head(20)"
      ],
      "metadata": {
        "id": "LA7XFEjFa8jr",
        "colab": {
          "base_uri": "https://localhost:8080/",
          "height": 810
        },
        "outputId": "6e634dce-add4-4631-cbfe-9e745c102c51"
      },
      "execution_count": null,
      "outputs": [
        {
          "output_type": "execute_result",
          "data": {
            "text/html": [
              "\n",
              "  <div id=\"df-449e94b4-b753-4930-8842-63e9ab2278d8\">\n",
              "    <div class=\"colab-df-container\">\n",
              "      <div>\n",
              "<style scoped>\n",
              "    .dataframe tbody tr th:only-of-type {\n",
              "        vertical-align: middle;\n",
              "    }\n",
              "\n",
              "    .dataframe tbody tr th {\n",
              "        vertical-align: top;\n",
              "    }\n",
              "\n",
              "    .dataframe thead th {\n",
              "        text-align: right;\n",
              "    }\n",
              "</style>\n",
              "<table border=\"1\" class=\"dataframe\">\n",
              "  <thead>\n",
              "    <tr style=\"text-align: right;\">\n",
              "      <th></th>\n",
              "      <th>Gender</th>\n",
              "      <th>Married</th>\n",
              "      <th>Dependents</th>\n",
              "      <th>Education</th>\n",
              "      <th>Self_Employed</th>\n",
              "      <th>ApplicantIncome</th>\n",
              "      <th>CoapplicantIncome</th>\n",
              "      <th>LoanAmount</th>\n",
              "      <th>Loan_Amount_Term</th>\n",
              "      <th>Credit_History</th>\n",
              "      <th>Property_Area</th>\n",
              "      <th>Loan_Status</th>\n",
              "    </tr>\n",
              "  </thead>\n",
              "  <tbody>\n",
              "    <tr>\n",
              "      <th>0</th>\n",
              "      <td>Male</td>\n",
              "      <td>No</td>\n",
              "      <td>0</td>\n",
              "      <td>Graduate</td>\n",
              "      <td>No</td>\n",
              "      <td>5849</td>\n",
              "      <td>0.0</td>\n",
              "      <td>128.0</td>\n",
              "      <td>360.0</td>\n",
              "      <td>1.0</td>\n",
              "      <td>Urban</td>\n",
              "      <td>Y</td>\n",
              "    </tr>\n",
              "    <tr>\n",
              "      <th>1</th>\n",
              "      <td>Male</td>\n",
              "      <td>Yes</td>\n",
              "      <td>1</td>\n",
              "      <td>Graduate</td>\n",
              "      <td>No</td>\n",
              "      <td>4583</td>\n",
              "      <td>1508.0</td>\n",
              "      <td>128.0</td>\n",
              "      <td>360.0</td>\n",
              "      <td>1.0</td>\n",
              "      <td>Rural</td>\n",
              "      <td>N</td>\n",
              "    </tr>\n",
              "    <tr>\n",
              "      <th>2</th>\n",
              "      <td>Male</td>\n",
              "      <td>Yes</td>\n",
              "      <td>0</td>\n",
              "      <td>Graduate</td>\n",
              "      <td>Yes</td>\n",
              "      <td>3000</td>\n",
              "      <td>0.0</td>\n",
              "      <td>66.0</td>\n",
              "      <td>360.0</td>\n",
              "      <td>1.0</td>\n",
              "      <td>Urban</td>\n",
              "      <td>Y</td>\n",
              "    </tr>\n",
              "    <tr>\n",
              "      <th>3</th>\n",
              "      <td>Male</td>\n",
              "      <td>Yes</td>\n",
              "      <td>0</td>\n",
              "      <td>Not Graduate</td>\n",
              "      <td>No</td>\n",
              "      <td>2583</td>\n",
              "      <td>2358.0</td>\n",
              "      <td>120.0</td>\n",
              "      <td>360.0</td>\n",
              "      <td>1.0</td>\n",
              "      <td>Urban</td>\n",
              "      <td>Y</td>\n",
              "    </tr>\n",
              "    <tr>\n",
              "      <th>4</th>\n",
              "      <td>Male</td>\n",
              "      <td>No</td>\n",
              "      <td>0</td>\n",
              "      <td>Graduate</td>\n",
              "      <td>No</td>\n",
              "      <td>6000</td>\n",
              "      <td>0.0</td>\n",
              "      <td>141.0</td>\n",
              "      <td>360.0</td>\n",
              "      <td>1.0</td>\n",
              "      <td>Urban</td>\n",
              "      <td>Y</td>\n",
              "    </tr>\n",
              "    <tr>\n",
              "      <th>5</th>\n",
              "      <td>Male</td>\n",
              "      <td>Yes</td>\n",
              "      <td>2</td>\n",
              "      <td>Graduate</td>\n",
              "      <td>Yes</td>\n",
              "      <td>5417</td>\n",
              "      <td>4196.0</td>\n",
              "      <td>267.0</td>\n",
              "      <td>360.0</td>\n",
              "      <td>1.0</td>\n",
              "      <td>Urban</td>\n",
              "      <td>Y</td>\n",
              "    </tr>\n",
              "    <tr>\n",
              "      <th>6</th>\n",
              "      <td>Male</td>\n",
              "      <td>Yes</td>\n",
              "      <td>0</td>\n",
              "      <td>Not Graduate</td>\n",
              "      <td>No</td>\n",
              "      <td>2333</td>\n",
              "      <td>1516.0</td>\n",
              "      <td>95.0</td>\n",
              "      <td>360.0</td>\n",
              "      <td>1.0</td>\n",
              "      <td>Urban</td>\n",
              "      <td>Y</td>\n",
              "    </tr>\n",
              "    <tr>\n",
              "      <th>7</th>\n",
              "      <td>Male</td>\n",
              "      <td>Yes</td>\n",
              "      <td>3+</td>\n",
              "      <td>Graduate</td>\n",
              "      <td>No</td>\n",
              "      <td>3036</td>\n",
              "      <td>2504.0</td>\n",
              "      <td>158.0</td>\n",
              "      <td>360.0</td>\n",
              "      <td>0.0</td>\n",
              "      <td>Semiurban</td>\n",
              "      <td>N</td>\n",
              "    </tr>\n",
              "    <tr>\n",
              "      <th>8</th>\n",
              "      <td>Male</td>\n",
              "      <td>Yes</td>\n",
              "      <td>2</td>\n",
              "      <td>Graduate</td>\n",
              "      <td>No</td>\n",
              "      <td>4006</td>\n",
              "      <td>1526.0</td>\n",
              "      <td>168.0</td>\n",
              "      <td>360.0</td>\n",
              "      <td>1.0</td>\n",
              "      <td>Urban</td>\n",
              "      <td>Y</td>\n",
              "    </tr>\n",
              "    <tr>\n",
              "      <th>9</th>\n",
              "      <td>Male</td>\n",
              "      <td>Yes</td>\n",
              "      <td>1</td>\n",
              "      <td>Graduate</td>\n",
              "      <td>No</td>\n",
              "      <td>12841</td>\n",
              "      <td>10968.0</td>\n",
              "      <td>349.0</td>\n",
              "      <td>360.0</td>\n",
              "      <td>1.0</td>\n",
              "      <td>Semiurban</td>\n",
              "      <td>N</td>\n",
              "    </tr>\n",
              "    <tr>\n",
              "      <th>10</th>\n",
              "      <td>Male</td>\n",
              "      <td>Yes</td>\n",
              "      <td>2</td>\n",
              "      <td>Graduate</td>\n",
              "      <td>No</td>\n",
              "      <td>3200</td>\n",
              "      <td>700.0</td>\n",
              "      <td>70.0</td>\n",
              "      <td>360.0</td>\n",
              "      <td>1.0</td>\n",
              "      <td>Urban</td>\n",
              "      <td>Y</td>\n",
              "    </tr>\n",
              "    <tr>\n",
              "      <th>11</th>\n",
              "      <td>Male</td>\n",
              "      <td>Yes</td>\n",
              "      <td>2</td>\n",
              "      <td>Graduate</td>\n",
              "      <td>No</td>\n",
              "      <td>2500</td>\n",
              "      <td>1840.0</td>\n",
              "      <td>109.0</td>\n",
              "      <td>360.0</td>\n",
              "      <td>1.0</td>\n",
              "      <td>Urban</td>\n",
              "      <td>Y</td>\n",
              "    </tr>\n",
              "    <tr>\n",
              "      <th>12</th>\n",
              "      <td>Male</td>\n",
              "      <td>Yes</td>\n",
              "      <td>2</td>\n",
              "      <td>Graduate</td>\n",
              "      <td>No</td>\n",
              "      <td>3073</td>\n",
              "      <td>8106.0</td>\n",
              "      <td>200.0</td>\n",
              "      <td>360.0</td>\n",
              "      <td>1.0</td>\n",
              "      <td>Urban</td>\n",
              "      <td>Y</td>\n",
              "    </tr>\n",
              "    <tr>\n",
              "      <th>13</th>\n",
              "      <td>Male</td>\n",
              "      <td>No</td>\n",
              "      <td>0</td>\n",
              "      <td>Graduate</td>\n",
              "      <td>No</td>\n",
              "      <td>1853</td>\n",
              "      <td>2840.0</td>\n",
              "      <td>114.0</td>\n",
              "      <td>360.0</td>\n",
              "      <td>1.0</td>\n",
              "      <td>Rural</td>\n",
              "      <td>N</td>\n",
              "    </tr>\n",
              "    <tr>\n",
              "      <th>14</th>\n",
              "      <td>Male</td>\n",
              "      <td>Yes</td>\n",
              "      <td>2</td>\n",
              "      <td>Graduate</td>\n",
              "      <td>No</td>\n",
              "      <td>1299</td>\n",
              "      <td>1086.0</td>\n",
              "      <td>17.0</td>\n",
              "      <td>120.0</td>\n",
              "      <td>1.0</td>\n",
              "      <td>Urban</td>\n",
              "      <td>Y</td>\n",
              "    </tr>\n",
              "    <tr>\n",
              "      <th>15</th>\n",
              "      <td>Male</td>\n",
              "      <td>No</td>\n",
              "      <td>0</td>\n",
              "      <td>Graduate</td>\n",
              "      <td>No</td>\n",
              "      <td>4950</td>\n",
              "      <td>0.0</td>\n",
              "      <td>125.0</td>\n",
              "      <td>360.0</td>\n",
              "      <td>1.0</td>\n",
              "      <td>Urban</td>\n",
              "      <td>Y</td>\n",
              "    </tr>\n",
              "    <tr>\n",
              "      <th>16</th>\n",
              "      <td>Male</td>\n",
              "      <td>No</td>\n",
              "      <td>1</td>\n",
              "      <td>Not Graduate</td>\n",
              "      <td>No</td>\n",
              "      <td>3596</td>\n",
              "      <td>0.0</td>\n",
              "      <td>100.0</td>\n",
              "      <td>240.0</td>\n",
              "      <td>1.0</td>\n",
              "      <td>Urban</td>\n",
              "      <td>Y</td>\n",
              "    </tr>\n",
              "    <tr>\n",
              "      <th>17</th>\n",
              "      <td>Female</td>\n",
              "      <td>No</td>\n",
              "      <td>0</td>\n",
              "      <td>Graduate</td>\n",
              "      <td>No</td>\n",
              "      <td>3510</td>\n",
              "      <td>0.0</td>\n",
              "      <td>76.0</td>\n",
              "      <td>360.0</td>\n",
              "      <td>0.0</td>\n",
              "      <td>Urban</td>\n",
              "      <td>N</td>\n",
              "    </tr>\n",
              "    <tr>\n",
              "      <th>18</th>\n",
              "      <td>Male</td>\n",
              "      <td>Yes</td>\n",
              "      <td>0</td>\n",
              "      <td>Not Graduate</td>\n",
              "      <td>No</td>\n",
              "      <td>4887</td>\n",
              "      <td>0.0</td>\n",
              "      <td>133.0</td>\n",
              "      <td>360.0</td>\n",
              "      <td>1.0</td>\n",
              "      <td>Rural</td>\n",
              "      <td>N</td>\n",
              "    </tr>\n",
              "    <tr>\n",
              "      <th>19</th>\n",
              "      <td>Male</td>\n",
              "      <td>Yes</td>\n",
              "      <td>0</td>\n",
              "      <td>Graduate</td>\n",
              "      <td>No</td>\n",
              "      <td>2600</td>\n",
              "      <td>3500.0</td>\n",
              "      <td>115.0</td>\n",
              "      <td>360.0</td>\n",
              "      <td>1.0</td>\n",
              "      <td>Urban</td>\n",
              "      <td>Y</td>\n",
              "    </tr>\n",
              "  </tbody>\n",
              "</table>\n",
              "</div>\n",
              "      <button class=\"colab-df-convert\" onclick=\"convertToInteractive('df-449e94b4-b753-4930-8842-63e9ab2278d8')\"\n",
              "              title=\"Convert this dataframe to an interactive table.\"\n",
              "              style=\"display:none;\">\n",
              "        \n",
              "  <svg xmlns=\"http://www.w3.org/2000/svg\" height=\"24px\"viewBox=\"0 0 24 24\"\n",
              "       width=\"24px\">\n",
              "    <path d=\"M0 0h24v24H0V0z\" fill=\"none\"/>\n",
              "    <path d=\"M18.56 5.44l.94 2.06.94-2.06 2.06-.94-2.06-.94-.94-2.06-.94 2.06-2.06.94zm-11 1L8.5 8.5l.94-2.06 2.06-.94-2.06-.94L8.5 2.5l-.94 2.06-2.06.94zm10 10l.94 2.06.94-2.06 2.06-.94-2.06-.94-.94-2.06-.94 2.06-2.06.94z\"/><path d=\"M17.41 7.96l-1.37-1.37c-.4-.4-.92-.59-1.43-.59-.52 0-1.04.2-1.43.59L10.3 9.45l-7.72 7.72c-.78.78-.78 2.05 0 2.83L4 21.41c.39.39.9.59 1.41.59.51 0 1.02-.2 1.41-.59l7.78-7.78 2.81-2.81c.8-.78.8-2.07 0-2.86zM5.41 20L4 18.59l7.72-7.72 1.47 1.35L5.41 20z\"/>\n",
              "  </svg>\n",
              "      </button>\n",
              "      \n",
              "  <style>\n",
              "    .colab-df-container {\n",
              "      display:flex;\n",
              "      flex-wrap:wrap;\n",
              "      gap: 12px;\n",
              "    }\n",
              "\n",
              "    .colab-df-convert {\n",
              "      background-color: #E8F0FE;\n",
              "      border: none;\n",
              "      border-radius: 50%;\n",
              "      cursor: pointer;\n",
              "      display: none;\n",
              "      fill: #1967D2;\n",
              "      height: 32px;\n",
              "      padding: 0 0 0 0;\n",
              "      width: 32px;\n",
              "    }\n",
              "\n",
              "    .colab-df-convert:hover {\n",
              "      background-color: #E2EBFA;\n",
              "      box-shadow: 0px 1px 2px rgba(60, 64, 67, 0.3), 0px 1px 3px 1px rgba(60, 64, 67, 0.15);\n",
              "      fill: #174EA6;\n",
              "    }\n",
              "\n",
              "    [theme=dark] .colab-df-convert {\n",
              "      background-color: #3B4455;\n",
              "      fill: #D2E3FC;\n",
              "    }\n",
              "\n",
              "    [theme=dark] .colab-df-convert:hover {\n",
              "      background-color: #434B5C;\n",
              "      box-shadow: 0px 1px 3px 1px rgba(0, 0, 0, 0.15);\n",
              "      filter: drop-shadow(0px 1px 2px rgba(0, 0, 0, 0.3));\n",
              "      fill: #FFFFFF;\n",
              "    }\n",
              "  </style>\n",
              "\n",
              "      <script>\n",
              "        const buttonEl =\n",
              "          document.querySelector('#df-449e94b4-b753-4930-8842-63e9ab2278d8 button.colab-df-convert');\n",
              "        buttonEl.style.display =\n",
              "          google.colab.kernel.accessAllowed ? 'block' : 'none';\n",
              "\n",
              "        async function convertToInteractive(key) {\n",
              "          const element = document.querySelector('#df-449e94b4-b753-4930-8842-63e9ab2278d8');\n",
              "          const dataTable =\n",
              "            await google.colab.kernel.invokeFunction('convertToInteractive',\n",
              "                                                     [key], {});\n",
              "          if (!dataTable) return;\n",
              "\n",
              "          const docLinkHtml = 'Like what you see? Visit the ' +\n",
              "            '<a target=\"_blank\" href=https://colab.research.google.com/notebooks/data_table.ipynb>data table notebook</a>'\n",
              "            + ' to learn more about interactive tables.';\n",
              "          element.innerHTML = '';\n",
              "          dataTable['output_type'] = 'display_data';\n",
              "          await google.colab.output.renderOutput(dataTable, element);\n",
              "          const docLink = document.createElement('div');\n",
              "          docLink.innerHTML = docLinkHtml;\n",
              "          element.appendChild(docLink);\n",
              "        }\n",
              "      </script>\n",
              "    </div>\n",
              "  </div>\n",
              "  "
            ],
            "text/plain": [
              "    Gender Married Dependents     Education Self_Employed  ApplicantIncome  \\\n",
              "0     Male      No          0      Graduate            No             5849   \n",
              "1     Male     Yes          1      Graduate            No             4583   \n",
              "2     Male     Yes          0      Graduate           Yes             3000   \n",
              "3     Male     Yes          0  Not Graduate            No             2583   \n",
              "4     Male      No          0      Graduate            No             6000   \n",
              "5     Male     Yes          2      Graduate           Yes             5417   \n",
              "6     Male     Yes          0  Not Graduate            No             2333   \n",
              "7     Male     Yes         3+      Graduate            No             3036   \n",
              "8     Male     Yes          2      Graduate            No             4006   \n",
              "9     Male     Yes          1      Graduate            No            12841   \n",
              "10    Male     Yes          2      Graduate            No             3200   \n",
              "11    Male     Yes          2      Graduate            No             2500   \n",
              "12    Male     Yes          2      Graduate            No             3073   \n",
              "13    Male      No          0      Graduate            No             1853   \n",
              "14    Male     Yes          2      Graduate            No             1299   \n",
              "15    Male      No          0      Graduate            No             4950   \n",
              "16    Male      No          1  Not Graduate            No             3596   \n",
              "17  Female      No          0      Graduate            No             3510   \n",
              "18    Male     Yes          0  Not Graduate            No             4887   \n",
              "19    Male     Yes          0      Graduate            No             2600   \n",
              "\n",
              "    CoapplicantIncome  LoanAmount  Loan_Amount_Term  Credit_History  \\\n",
              "0                 0.0       128.0             360.0             1.0   \n",
              "1              1508.0       128.0             360.0             1.0   \n",
              "2                 0.0        66.0             360.0             1.0   \n",
              "3              2358.0       120.0             360.0             1.0   \n",
              "4                 0.0       141.0             360.0             1.0   \n",
              "5              4196.0       267.0             360.0             1.0   \n",
              "6              1516.0        95.0             360.0             1.0   \n",
              "7              2504.0       158.0             360.0             0.0   \n",
              "8              1526.0       168.0             360.0             1.0   \n",
              "9             10968.0       349.0             360.0             1.0   \n",
              "10              700.0        70.0             360.0             1.0   \n",
              "11             1840.0       109.0             360.0             1.0   \n",
              "12             8106.0       200.0             360.0             1.0   \n",
              "13             2840.0       114.0             360.0             1.0   \n",
              "14             1086.0        17.0             120.0             1.0   \n",
              "15                0.0       125.0             360.0             1.0   \n",
              "16                0.0       100.0             240.0             1.0   \n",
              "17                0.0        76.0             360.0             0.0   \n",
              "18                0.0       133.0             360.0             1.0   \n",
              "19             3500.0       115.0             360.0             1.0   \n",
              "\n",
              "   Property_Area Loan_Status  \n",
              "0          Urban           Y  \n",
              "1          Rural           N  \n",
              "2          Urban           Y  \n",
              "3          Urban           Y  \n",
              "4          Urban           Y  \n",
              "5          Urban           Y  \n",
              "6          Urban           Y  \n",
              "7      Semiurban           N  \n",
              "8          Urban           Y  \n",
              "9      Semiurban           N  \n",
              "10         Urban           Y  \n",
              "11         Urban           Y  \n",
              "12         Urban           Y  \n",
              "13         Rural           N  \n",
              "14         Urban           Y  \n",
              "15         Urban           Y  \n",
              "16         Urban           Y  \n",
              "17         Urban           N  \n",
              "18         Rural           N  \n",
              "19         Urban           Y  "
            ]
          },
          "metadata": {},
          "execution_count": 39
        }
      ]
    },
    {
      "cell_type": "markdown",
      "source": [
        "Please check whether all missing values are filled using the command `loan_data.isnull().sum()`. If you have all '0' entries, congratulations! You have finished the data imputation. "
      ],
      "metadata": {
        "id": "ANSe08MGbmKv"
      }
    },
    {
      "cell_type": "code",
      "source": [
        "loan_data.isnull().sum()"
      ],
      "metadata": {
        "id": "rRAR-M9rcJST",
        "colab": {
          "base_uri": "https://localhost:8080/"
        },
        "outputId": "b965f36f-61b9-49ec-b817-6170dda337b8"
      },
      "execution_count": null,
      "outputs": [
        {
          "output_type": "execute_result",
          "data": {
            "text/plain": [
              "Gender               0\n",
              "Married              0\n",
              "Dependents           0\n",
              "Education            0\n",
              "Self_Employed        0\n",
              "ApplicantIncome      0\n",
              "CoapplicantIncome    0\n",
              "LoanAmount           0\n",
              "Loan_Amount_Term     0\n",
              "Credit_History       0\n",
              "Property_Area        0\n",
              "Loan_Status          0\n",
              "dtype: int64"
            ]
          },
          "metadata": {},
          "execution_count": 40
        }
      ]
    },
    {
      "cell_type": "markdown",
      "source": [
        "Expected output:\n",
        "```\n",
        "Gender               0\n",
        "Married              0\n",
        "Dependents           0\n",
        "Education            0\n",
        "Self_Employed        0\n",
        "ApplicantIncome      0\n",
        "CoapplicantIncome    0\n",
        "LoanAmount           0\n",
        "Loan_Amount_Term     0\n",
        "Credit_History       0\n",
        "Property_Area        0\n",
        "Loan_Status          0\n",
        "dtype: int64\n",
        "```"
      ],
      "metadata": {
        "id": "hVAS4TmAiLiw"
      }
    },
    {
      "cell_type": "markdown",
      "source": [
        "### 3.2 Converting categorical values to numbers\n",
        "\n",
        "Let's first take a look at the data type of the loan data."
      ],
      "metadata": {
        "id": "Rw1M2Kd93ZNy"
      }
    },
    {
      "cell_type": "code",
      "source": [
        "loan_data.info()"
      ],
      "metadata": {
        "id": "_dr-2QIRds1g",
        "colab": {
          "base_uri": "https://localhost:8080/"
        },
        "outputId": "0d9b2ebd-3ca8-4f9c-9eb4-d88f96ff6e60"
      },
      "execution_count": null,
      "outputs": [
        {
          "output_type": "stream",
          "name": "stdout",
          "text": [
            "<class 'pandas.core.frame.DataFrame'>\n",
            "RangeIndex: 614 entries, 0 to 613\n",
            "Data columns (total 12 columns):\n",
            " #   Column             Non-Null Count  Dtype  \n",
            "---  ------             --------------  -----  \n",
            " 0   Gender             614 non-null    object \n",
            " 1   Married            614 non-null    object \n",
            " 2   Dependents         614 non-null    object \n",
            " 3   Education          614 non-null    object \n",
            " 4   Self_Employed      614 non-null    object \n",
            " 5   ApplicantIncome    614 non-null    int64  \n",
            " 6   CoapplicantIncome  614 non-null    float64\n",
            " 7   LoanAmount         614 non-null    float64\n",
            " 8   Loan_Amount_Term   614 non-null    float64\n",
            " 9   Credit_History     614 non-null    float64\n",
            " 10  Property_Area      614 non-null    object \n",
            " 11  Loan_Status        614 non-null    object \n",
            "dtypes: float64(4), int64(1), object(7)\n",
            "memory usage: 57.7+ KB\n"
          ]
        }
      ]
    },
    {
      "cell_type": "markdown",
      "source": [
        "From the information provided above, we see that the data type of 7 categories is object. We need to convert them to numbers to train our model. \n",
        "\n",
        "* For 'Gender' category, 'Male' is mapped to 0, 'Female' is mapped to 1.\n",
        "\n",
        "Please use the same technique to do the following conversion. \n",
        "\n",
        "* For 'Married', 'Self_Employed', and 'Loan_Status' category, please map 'No' to 0 and 'Yes' to 1.\n",
        "\n",
        "* For 'Dependents' category, please map '0' to 0, '1' to 1, '2' to 2, and '3+' to 3.\n",
        "\n",
        "* For 'Education' category, please map 'Graduate' to 1 and 'Not Graduate' to 0.\n",
        "\n",
        "* For 'Property_Area' category, please map 'Rural' to 0, 'Semiurban' to 1, and 'Urban' to 2."
      ],
      "metadata": {
        "id": "MsSz1YaTd8l8"
      }
    },
    {
      "cell_type": "code",
      "source": [
        "# Converting the categories into numbers using map function.\n",
        "loan_data['Gender'] = loan_data['Gender'].map({'Male': 0, 'Female': 1})\n",
        "\n",
        "# start your code here\n",
        "loan_data['Married'] = loan_data['Married'].map({'No': 0, 'Yes': 1})\n",
        "loan_data['Self_Employed'] = loan_data['Self_Employed'].map({'No': 0, 'Yes': 1})\n",
        "loan_data['Loan_Status'] = loan_data['Loan_Status'].map({'N': 0, 'Y': 1})\n",
        "loan_data['Dependents'] = loan_data['Dependents'].map({'0': 0, '1': 1,'2':2,'3+':3})\n",
        "loan_data['Education'] = loan_data['Education'].map({'Not Graduate': 0, 'Graduate': 1})\n",
        "loan_data['Property_Area'] =loan_data['Property_Area'].map({'Rural': 0, 'Semiurban': 1})\n",
        "# end your code here"
      ],
      "metadata": {
        "id": "Wv892vYdheyq"
      },
      "execution_count": null,
      "outputs": []
    },
    {
      "cell_type": "markdown",
      "source": [
        "Now, let's double check the data types to make sure that we have all numerical entries."
      ],
      "metadata": {
        "id": "uUrNq9UQhxDP"
      }
    },
    {
      "cell_type": "code",
      "source": [
        "loan_data.info()"
      ],
      "metadata": {
        "id": "xn4IVjzjh5RJ",
        "colab": {
          "base_uri": "https://localhost:8080/"
        },
        "outputId": "f24164ec-2d26-4b32-fd82-cbd9054aa176"
      },
      "execution_count": null,
      "outputs": [
        {
          "output_type": "stream",
          "name": "stdout",
          "text": [
            "<class 'pandas.core.frame.DataFrame'>\n",
            "RangeIndex: 614 entries, 0 to 613\n",
            "Data columns (total 12 columns):\n",
            " #   Column             Non-Null Count  Dtype  \n",
            "---  ------             --------------  -----  \n",
            " 0   Gender             614 non-null    int64  \n",
            " 1   Married            614 non-null    int64  \n",
            " 2   Dependents         614 non-null    int64  \n",
            " 3   Education          614 non-null    int64  \n",
            " 4   Self_Employed      614 non-null    int64  \n",
            " 5   ApplicantIncome    614 non-null    int64  \n",
            " 6   CoapplicantIncome  614 non-null    float64\n",
            " 7   LoanAmount         614 non-null    float64\n",
            " 8   Loan_Amount_Term   614 non-null    float64\n",
            " 9   Credit_History     614 non-null    float64\n",
            " 10  Property_Area      412 non-null    float64\n",
            " 11  Loan_Status        614 non-null    int64  \n",
            "dtypes: float64(5), int64(7)\n",
            "memory usage: 57.7 KB\n"
          ]
        }
      ]
    },
    {
      "cell_type": "markdown",
      "source": [
        "Expected output:\n",
        "\n",
        "```\n",
        "<class 'pandas.core.frame.DataFrame'>\n",
        "RangeIndex: 614 entries, 0 to 613\n",
        "Data columns (total 12 columns):\n",
        " #   Column             Non-Null Count  Dtype  \n",
        "---  ------             --------------  -----  \n",
        " 0   Gender             614 non-null    int64  \n",
        " 1   Married            614 non-null    int64  \n",
        " 2   Dependents         614 non-null    int64  \n",
        " 3   Education          614 non-null    int64  \n",
        " 4   Self_Employed      614 non-null    int64  \n",
        " 5   ApplicantIncome    614 non-null    int64  \n",
        " 6   CoapplicantIncome  614 non-null    float64\n",
        " 7   LoanAmount         614 non-null    float64\n",
        " 8   Loan_Amount_Term   614 non-null    float64\n",
        " 9   Credit_History     614 non-null    float64\n",
        " 10  Property_Area      614 non-null    int64  \n",
        " 11  Loan_Status        614 non-null    int64  \n",
        "dtypes: float64(4), int64(8)\n",
        "memory usage: 57.7 KB\n",
        "```"
      ],
      "metadata": {
        "id": "Ym6yrR0AiAIs"
      }
    },
    {
      "cell_type": "markdown",
      "source": [
        "### 3.3 Right tail treatment\n",
        "From section 2.7, 2.8, and 2.9, we see that the income of applicants, coapplicants, and the loan amount have long and thin right tail. \n",
        "\n",
        "It can be seen that having long and thin right tail often has a significant effect on the mean and standard deviation and hence affecting the distribution. We must take steps to remove the tails from our data sets.\n",
        "\n",
        "This is called right skewness. One way to remove the skewness is by doing the log transformation. As we take the log transformation, it does not affect the smaller values much but reduces the larger values. So, we get a distribution similar to normal distribution.\n",
        "Let’s visualize the effect of log transformation.\n",
        "\n",
        "Originally, the distribution of applicant income is as below.\n",
        "\n",
        "![alt text](https://drive.google.com/uc?id=1UfnWuvx4SV0VLIm5cv0cR1zGteB2g199)\n",
        "\n",
        "We will apply log transformation to the 'ApplicantIncome' category and recheck the distribution to see the difference. "
      ],
      "metadata": {
        "id": "uvJfqtYpif7r"
      }
    },
    {
      "cell_type": "code",
      "source": [
        "epsilon=1\n",
        "loan_data['ApplicantIncome']=np.log(epsilon+loan_data['ApplicantIncome'])\n",
        "sns.histplot(loan_data['ApplicantIncome'])\n",
        "plt.show()"
      ],
      "metadata": {
        "id": "kEwJNy3OpRpQ",
        "colab": {
          "base_uri": "https://localhost:8080/",
          "height": 279
        },
        "outputId": "d4dd9733-8979-4fbe-c17d-75518ea9b642"
      },
      "execution_count": null,
      "outputs": [
        {
          "output_type": "display_data",
          "data": {
            "image/png": "[encoded data removed]",
            "text/plain": [
              "<Figure size 432x288 with 1 Axes>"
            ]
          },
          "metadata": {
            "needs_background": "light"
          }
        }
      ]
    },
    {
      "cell_type": "markdown",
      "source": [
        "After the tail treatment, the distribution looks more like a normal distribution. It gives a good base for the next step: data normalization. \n",
        "\n",
        "Please use the same methods to treat the tails in 'CoapplicantIncome' and 'LoanAmount' category."
      ],
      "metadata": {
        "id": "fuFbJkPvpz9C"
      }
    },
    {
      "cell_type": "code",
      "source": [
        "# start your code here\n",
        "epsilon=1\n",
        "loan_data['CoapplicantIncome']=np.log(epsilon+loan_data['CoapplicantIncome'])\n",
        "sns.histplot(loan_data['CoapplicantIncome'])\n",
        "# end your code here"
      ],
      "metadata": {
        "id": "yilKSRmUqXV3",
        "colab": {
          "base_uri": "https://localhost:8080/",
          "height": 297
        },
        "outputId": "c148f278-c066-4415-f981-3fa6661d009a"
      },
      "execution_count": null,
      "outputs": [
        {
          "output_type": "execute_result",
          "data": {
            "text/plain": [
              "<matplotlib.axes._subplots.AxesSubplot at 0x7fadf1a76410>"
            ]
          },
          "metadata": {},
          "execution_count": 45
        },
        {
          "output_type": "display_data",
          "data": {
            "image/png": "[encoded data removed]",
            "text/plain": [
              "<Figure size 432x288 with 1 Axes>"
            ]
          },
          "metadata": {
            "needs_background": "light"
          }
        }
      ]
    },
    {
      "cell_type": "markdown",
      "source": [
        "Expected output:\n",
        "\n",
        "![alt text](https://drive.google.com/uc?id=11JyrjdzswoYkblgYxm8vvD5KssQmxkyw)"
      ],
      "metadata": {
        "id": "4u6-d7wlrba6"
      }
    },
    {
      "cell_type": "markdown",
      "source": [
        "### 3.4 Other data preprocessing\n",
        "\n",
        "We emphasized a lot that you will need to preprocess your data before using them to train your model. Now, please think about whether there are other preprocessing that you can do to help you train a good model. If yes, please do it here. "
      ],
      "metadata": {
        "id": "ghVoh36grswM"
      }
    },
    {
      "cell_type": "code",
      "source": [
        "# start your code here\n",
        "\n",
        "# end your code here\n",
        "loan_data.shape"
      ],
      "metadata": {
        "id": "Xs_NFssux97H",
        "colab": {
          "base_uri": "https://localhost:8080/"
        },
        "outputId": "2ec2bec2-4459-48c5-dbad-e401f845655e"
      },
      "execution_count": null,
      "outputs": [
        {
          "output_type": "execute_result",
          "data": {
            "text/plain": [
              "(614, 12)"
            ]
          },
          "metadata": {},
          "execution_count": 46
        }
      ]
    },
    {
      "cell_type": "markdown",
      "source": [
        "### 3.5 Correlation among different categories\n",
        "\n",
        "Now let’s look at the correlation between all the numerical variables. We will use the heat map to visualize the correlation. Heatmaps visualize data through variations in coloring. The variables with darker color means their correlation is more."
      ],
      "metadata": {
        "id": "-S8JNQ6IvwmK"
      }
    },
    {
      "cell_type": "code",
      "source": [
        "plt.figure(figsize=(15,10))\n",
        "sns.heatmap(loan_data.corr(), vmax=.8, cmap='BuPu',annot=True, fmt='.2g')"
      ],
      "metadata": {
        "id": "J7BuYShrv2li",
        "colab": {
          "base_uri": "https://localhost:8080/",
          "height": 701
        },
        "outputId": "1efb025d-7f8f-4400-df50-ae9b864944ca"
      },
      "execution_count": null,
      "outputs": [
        {
          "output_type": "execute_result",
          "data": {
            "text/plain": [
              "<matplotlib.axes._subplots.AxesSubplot at 0x7fadf1a0ced0>"
            ]
          },
          "metadata": {},
          "execution_count": 47
        },
        {
          "output_type": "display_data",
          "data": {
            "image/png": "[encoded data removed]",
            "text/plain": [
              "<Figure size 1080x720 with 2 Axes>"
            ]
          },
          "metadata": {
            "needs_background": "light"
          }
        }
      ]
    },
    {
      "cell_type": "markdown",
      "source": [
        "We see a strong correlation between 'Credit_History' and 'Loan_Status', 'LoanAmount' and 'ApplicantIncome', 'CoapplicantIncome' and 'Married', a strong reverse correlation between 'ApplicantIncome' and 'CoapplicantIncom'. When we choose the categories for the training input, these are all elements that need to be considered."
      ],
      "metadata": {
        "id": "JIjSyrETy37K"
      }
    },
    {
      "cell_type": "markdown",
      "source": [
        "### 3.6 Input and output data splitting\n",
        "\n",
        "We need to predict the 'Loan_Status'. So, our output is 'Loan_Status'. For the input, you can choose as many  relavant categories as you like.\n",
        "\n",
        "The output data is seperated. As neural network only accept float as the training data set, we use `np.float32` to change the data type to float. \n",
        "\n",
        "Please choose your input categories using the similar ideas."
      ],
      "metadata": {
        "id": "H6f53OsDzbve"
      }
    },
    {
      "cell_type": "code",
      "source": [
        "#array = loan_data.values\n",
        "Y = np.float32(loan_data[['Loan_Status']].values)\n",
        "# start your code here\n",
        "X = np.float32(loan_data[['Self_Employed']].values)\n",
        "# end your code here\n",
        "X.dtype"
      ],
      "metadata": {
        "id": "QF3_1mY0z4bw",
        "colab": {
          "base_uri": "https://localhost:8080/"
        },
        "outputId": "6967c8bc-9c5b-42e5-dd69-6fbdcb9d3fc0"
      },
      "execution_count": null,
      "outputs": [
        {
          "output_type": "execute_result",
          "data": {
            "text/plain": [
              "dtype('float32')"
            ]
          },
          "metadata": {},
          "execution_count": 52
        }
      ]
    },
    {
      "cell_type": "markdown",
      "source": [
        "Expected output:\n",
        "```\n",
        "dtype('float32')\n",
        "```"
      ],
      "metadata": {
        "id": "sWIUtqn1QwQN"
      }
    },
    {
      "cell_type": "markdown",
      "source": [
        "### 3.7 Training and testing data splitting\n",
        "\n",
        "In our lecture, we mentioned that if you have a small dataset (<2000 samples). It is suggested to use 20% of it for testing purpose. It can be easily realized using sklearn library. \n"
      ],
      "metadata": {
        "id": "j5_A8XOQYamN"
      }
    },
    {
      "cell_type": "code",
      "source": [
        "from sklearn import model_selection\n",
        "x_train, x_test, y_train, y_test = model_selection.train_test_split(X, Y, test_size=0.2, random_state=1234)"
      ],
      "metadata": {
        "id": "lrRn15Do6ZUz"
      },
      "execution_count": null,
      "outputs": []
    },
    {
      "cell_type": "markdown",
      "source": [
        "## 4 Building Neural network\n",
        "\n",
        "Please use what we learned before to build your neural network. You have the freedome to choose your network structure. Just keep it in mind that the number of neurons in the input layer and the output layer should be the same as the size of your input and output data for each sample. Besides, since this is a binary classification problem, the activation function in the output layer needs to be 'sigmoid' function. "
      ],
      "metadata": {
        "id": "QFE6czRQZ3l_"
      }
    },
    {
      "cell_type": "code",
      "source": [
        "import tensorflow as tf\n",
        "\n",
        "# start your code here\n",
        "model=tf.keras.Sequential([tf.keras.layers.Input(shape=1),\n",
        "tf.keras.layers.Dense(25,activation='relu',\n",
        "kernel_initializer='glorot_uniform',\n",
        "bias_initializer='zeros'),\n",
        "tf.keras.layers.Dense(1,activation='sigmoid')])                           \n",
        "# end your code here\n",
        "model.summary()"
      ],
      "metadata": {
        "id": "rbtb65DQ7AOj",
        "colab": {
          "base_uri": "https://localhost:8080/"
        },
        "outputId": "16d6db7b-7332-4c15-9e1c-338ba4349479"
      },
      "execution_count": null,
      "outputs": [
        {
          "output_type": "stream",
          "name": "stdout",
          "text": [
            "Model: \"sequential_6\"\n",
            "_________________________________________________________________\n",
            " Layer (type)                Output Shape              Param #   \n",
            "=================================================================\n",
            " dense_12 (Dense)            (None, 25)                50        \n",
            "                                                                 \n",
            " dense_13 (Dense)            (None, 1)                 26        \n",
            "                                                                 \n",
            "=================================================================\n",
            "Total params: 76\n",
            "Trainable params: 76\n",
            "Non-trainable params: 0\n",
            "_________________________________________________________________\n"
          ]
        }
      ]
    },
    {
      "cell_type": "markdown",
      "source": [
        "## 5. Compiling and training your neural network\n",
        "Please use what you learned before to compile and train your neural network. "
      ],
      "metadata": {
        "id": "2fle2xGpjRoN"
      }
    },
    {
      "cell_type": "code",
      "source": [
        "# start your code here\n",
        "model.compile(optimizer=tf.keras.optimizers.Adam(learning_rate=.020),\n",
        "loss=tf.keras.losses.BinaryCrossentropy(),\n",
        "metrics=['accuracy'],)\n",
        "history=model.fit(x_train,y_train,batch_size=64,epochs=190)\n",
        "#end your code here"
      ],
      "metadata": {
        "id": "vQJb5cOC9Dij",
        "colab": {
          "base_uri": "https://localhost:8080/"
        },
        "outputId": "220142a4-6bf5-4a49-de80-d783fe88e639"
      },
      "execution_count": null,
      "outputs": [
        {
          "output_type": "stream",
          "name": "stdout",
          "text": [
            "Epoch 1/190\n",
            "8/8 [==============================] - 3s 4ms/step - loss: 0.6589 - accuracy: 0.6354\n",
            "Epoch 2/190\n",
            "8/8 [==============================] - 0s 4ms/step - loss: 0.6262 - accuracy: 0.6884\n",
            "Epoch 3/190\n",
            "8/8 [==============================] - 0s 4ms/step - loss: 0.6260 - accuracy: 0.6884\n",
            "Epoch 4/190\n",
            "8/8 [==============================] - 0s 4ms/step - loss: 0.6212 - accuracy: 0.6884\n",
            "Epoch 5/190\n",
            "8/8 [==============================] - 0s 5ms/step - loss: 0.6218 - accuracy: 0.6884\n",
            "Epoch 6/190\n",
            "8/8 [==============================] - 0s 5ms/step - loss: 0.6212 - accuracy: 0.6884\n",
            "Epoch 7/190\n",
            "8/8 [==============================] - 0s 6ms/step - loss: 0.6211 - accuracy: 0.6884\n",
            "Epoch 8/190\n",
            "8/8 [==============================] - 0s 6ms/step - loss: 0.6212 - accuracy: 0.6884\n",
            "Epoch 9/190\n",
            "8/8 [==============================] - 0s 5ms/step - loss: 0.6234 - accuracy: 0.6884\n",
            "Epoch 10/190\n",
            "8/8 [==============================] - 0s 4ms/step - loss: 0.6201 - accuracy: 0.6884\n",
            "Epoch 11/190\n",
            "8/8 [==============================] - 0s 4ms/step - loss: 0.6222 - accuracy: 0.6884\n",
            "Epoch 12/190\n",
            "8/8 [==============================] - 0s 4ms/step - loss: 0.6198 - accuracy: 0.6884\n",
            "Epoch 13/190\n",
            "8/8 [==============================] - 0s 4ms/step - loss: 0.6215 - accuracy: 0.6884\n",
            "Epoch 14/190\n",
            "8/8 [==============================] - 0s 4ms/step - loss: 0.6212 - accuracy: 0.6884\n",
            "Epoch 15/190\n",
            "8/8 [==============================] - 0s 4ms/step - loss: 0.6219 - accuracy: 0.6884\n",
            "Epoch 16/190\n",
            "8/8 [==============================] - 0s 4ms/step - loss: 0.6238 - accuracy: 0.6884\n",
            "Epoch 17/190\n",
            "8/8 [==============================] - 0s 4ms/step - loss: 0.6210 - accuracy: 0.6884\n",
            "Epoch 18/190\n",
            "8/8 [==============================] - 0s 4ms/step - loss: 0.6250 - accuracy: 0.6884\n",
            "Epoch 19/190\n",
            "8/8 [==============================] - 0s 4ms/step - loss: 0.6228 - accuracy: 0.6884\n",
            "Epoch 20/190\n",
            "8/8 [==============================] - 0s 5ms/step - loss: 0.6217 - accuracy: 0.6884\n",
            "Epoch 21/190\n",
            "8/8 [==============================] - 0s 4ms/step - loss: 0.6230 - accuracy: 0.6884\n",
            "Epoch 22/190\n",
            "8/8 [==============================] - 0s 4ms/step - loss: 0.6208 - accuracy: 0.6884\n",
            "Epoch 23/190\n",
            "8/8 [==============================] - 0s 4ms/step - loss: 0.6215 - accuracy: 0.6884\n",
            "Epoch 24/190\n",
            "8/8 [==============================] - 0s 5ms/step - loss: 0.6213 - accuracy: 0.6884\n",
            "Epoch 25/190\n",
            "8/8 [==============================] - 0s 4ms/step - loss: 0.6213 - accuracy: 0.6884\n",
            "Epoch 26/190\n",
            "8/8 [==============================] - 0s 4ms/step - loss: 0.6218 - accuracy: 0.6884\n",
            "Epoch 27/190\n",
            "8/8 [==============================] - 0s 5ms/step - loss: 0.6233 - accuracy: 0.6884\n",
            "Epoch 28/190\n",
            "8/8 [==============================] - 0s 6ms/step - loss: 0.6216 - accuracy: 0.6884\n",
            "Epoch 29/190\n",
            "8/8 [==============================] - 0s 4ms/step - loss: 0.6219 - accuracy: 0.6884\n",
            "Epoch 30/190\n",
            "8/8 [==============================] - 0s 4ms/step - loss: 0.6226 - accuracy: 0.6884\n",
            "Epoch 31/190\n",
            "8/8 [==============================] - 0s 4ms/step - loss: 0.6258 - accuracy: 0.6884\n",
            "Epoch 32/190\n",
            "8/8 [==============================] - 0s 5ms/step - loss: 0.6212 - accuracy: 0.6884\n",
            "Epoch 33/190\n",
            "8/8 [==============================] - 0s 4ms/step - loss: 0.6219 - accuracy: 0.6884\n",
            "Epoch 34/190\n",
            "8/8 [==============================] - 0s 5ms/step - loss: 0.6206 - accuracy: 0.6884\n",
            "Epoch 35/190\n",
            "8/8 [==============================] - 0s 4ms/step - loss: 0.6215 - accuracy: 0.6884\n",
            "Epoch 36/190\n",
            "8/8 [==============================] - 0s 5ms/step - loss: 0.6211 - accuracy: 0.6884\n",
            "Epoch 37/190\n",
            "8/8 [==============================] - 0s 4ms/step - loss: 0.6239 - accuracy: 0.6884\n",
            "Epoch 38/190\n",
            "8/8 [==============================] - 0s 4ms/step - loss: 0.6224 - accuracy: 0.6884\n",
            "Epoch 39/190\n",
            "8/8 [==============================] - 0s 4ms/step - loss: 0.6214 - accuracy: 0.6884\n",
            "Epoch 40/190\n",
            "8/8 [==============================] - 0s 4ms/step - loss: 0.6219 - accuracy: 0.6884\n",
            "Epoch 41/190\n",
            "8/8 [==============================] - 0s 4ms/step - loss: 0.6221 - accuracy: 0.6884\n",
            "Epoch 42/190\n",
            "8/8 [==============================] - 0s 4ms/step - loss: 0.6212 - accuracy: 0.6884\n",
            "Epoch 43/190\n",
            "8/8 [==============================] - 0s 4ms/step - loss: 0.6214 - accuracy: 0.6884\n",
            "Epoch 44/190\n",
            "8/8 [==============================] - 0s 4ms/step - loss: 0.6210 - accuracy: 0.6884\n",
            "Epoch 45/190\n",
            "8/8 [==============================] - 0s 5ms/step - loss: 0.6208 - accuracy: 0.6884\n",
            "Epoch 46/190\n",
            "8/8 [==============================] - 0s 4ms/step - loss: 0.6205 - accuracy: 0.6884\n",
            "Epoch 47/190\n",
            "8/8 [==============================] - 0s 4ms/step - loss: 0.6205 - accuracy: 0.6884\n",
            "Epoch 48/190\n",
            "8/8 [==============================] - 0s 4ms/step - loss: 0.6210 - accuracy: 0.6884\n",
            "Epoch 49/190\n",
            "8/8 [==============================] - 0s 4ms/step - loss: 0.6213 - accuracy: 0.6884\n",
            "Epoch 50/190\n",
            "8/8 [==============================] - 0s 5ms/step - loss: 0.6215 - accuracy: 0.6884\n",
            "Epoch 51/190\n",
            "8/8 [==============================] - 0s 4ms/step - loss: 0.6205 - accuracy: 0.6884\n",
            "Epoch 52/190\n",
            "8/8 [==============================] - 0s 4ms/step - loss: 0.6212 - accuracy: 0.6884\n",
            "Epoch 53/190\n",
            "8/8 [==============================] - 0s 4ms/step - loss: 0.6233 - accuracy: 0.6884\n",
            "Epoch 54/190\n",
            "8/8 [==============================] - 0s 5ms/step - loss: 0.6217 - accuracy: 0.6884\n",
            "Epoch 55/190\n",
            "8/8 [==============================] - 0s 4ms/step - loss: 0.6214 - accuracy: 0.6884\n",
            "Epoch 56/190\n",
            "8/8 [==============================] - 0s 4ms/step - loss: 0.6210 - accuracy: 0.6884\n",
            "Epoch 57/190\n",
            "8/8 [==============================] - 0s 4ms/step - loss: 0.6205 - accuracy: 0.6884\n",
            "Epoch 58/190\n",
            "8/8 [==============================] - 0s 4ms/step - loss: 0.6209 - accuracy: 0.6884\n",
            "Epoch 59/190\n",
            "8/8 [==============================] - 0s 4ms/step - loss: 0.6210 - accuracy: 0.6884\n",
            "Epoch 60/190\n",
            "8/8 [==============================] - 0s 4ms/step - loss: 0.6205 - accuracy: 0.6884\n",
            "Epoch 61/190\n",
            "8/8 [==============================] - 0s 5ms/step - loss: 0.6207 - accuracy: 0.6884\n",
            "Epoch 62/190\n",
            "8/8 [==============================] - 0s 4ms/step - loss: 0.6211 - accuracy: 0.6884\n",
            "Epoch 63/190\n",
            "8/8 [==============================] - 0s 6ms/step - loss: 0.6205 - accuracy: 0.6884\n",
            "Epoch 64/190\n",
            "8/8 [==============================] - 0s 4ms/step - loss: 0.6219 - accuracy: 0.6884\n",
            "Epoch 65/190\n",
            "8/8 [==============================] - 0s 5ms/step - loss: 0.6214 - accuracy: 0.6884\n",
            "Epoch 66/190\n",
            "8/8 [==============================] - 0s 4ms/step - loss: 0.6218 - accuracy: 0.6884\n",
            "Epoch 67/190\n",
            "8/8 [==============================] - 0s 4ms/step - loss: 0.6209 - accuracy: 0.6884\n",
            "Epoch 68/190\n",
            "8/8 [==============================] - 0s 4ms/step - loss: 0.6205 - accuracy: 0.6884\n",
            "Epoch 69/190\n",
            "8/8 [==============================] - 0s 4ms/step - loss: 0.6211 - accuracy: 0.6884\n",
            "Epoch 70/190\n",
            "8/8 [==============================] - 0s 5ms/step - loss: 0.6212 - accuracy: 0.6884\n",
            "Epoch 71/190\n",
            "8/8 [==============================] - 0s 4ms/step - loss: 0.6206 - accuracy: 0.6884\n",
            "Epoch 72/190\n",
            "8/8 [==============================] - 0s 6ms/step - loss: 0.6213 - accuracy: 0.6884\n",
            "Epoch 73/190\n",
            "8/8 [==============================] - 0s 4ms/step - loss: 0.6206 - accuracy: 0.6884\n",
            "Epoch 74/190\n",
            "8/8 [==============================] - 0s 4ms/step - loss: 0.6213 - accuracy: 0.6884\n",
            "Epoch 75/190\n",
            "8/8 [==============================] - 0s 5ms/step - loss: 0.6206 - accuracy: 0.6884\n",
            "Epoch 76/190\n",
            "8/8 [==============================] - 0s 4ms/step - loss: 0.6218 - accuracy: 0.6884\n",
            "Epoch 77/190\n",
            "8/8 [==============================] - 0s 4ms/step - loss: 0.6204 - accuracy: 0.6884\n",
            "Epoch 78/190\n",
            "8/8 [==============================] - 0s 4ms/step - loss: 0.6217 - accuracy: 0.6884\n",
            "Epoch 79/190\n",
            "8/8 [==============================] - 0s 5ms/step - loss: 0.6214 - accuracy: 0.6884\n",
            "Epoch 80/190\n",
            "8/8 [==============================] - 0s 4ms/step - loss: 0.6211 - accuracy: 0.6884\n",
            "Epoch 81/190\n",
            "8/8 [==============================] - 0s 4ms/step - loss: 0.6209 - accuracy: 0.6884\n",
            "Epoch 82/190\n",
            "8/8 [==============================] - 0s 4ms/step - loss: 0.6221 - accuracy: 0.6884\n",
            "Epoch 83/190\n",
            "8/8 [==============================] - 0s 4ms/step - loss: 0.6212 - accuracy: 0.6884\n",
            "Epoch 84/190\n",
            "8/8 [==============================] - 0s 4ms/step - loss: 0.6208 - accuracy: 0.6884\n",
            "Epoch 85/190\n",
            "8/8 [==============================] - 0s 4ms/step - loss: 0.6217 - accuracy: 0.6884\n",
            "Epoch 86/190\n",
            "8/8 [==============================] - 0s 4ms/step - loss: 0.6209 - accuracy: 0.6884\n",
            "Epoch 87/190\n",
            "8/8 [==============================] - 0s 4ms/step - loss: 0.6219 - accuracy: 0.6884\n",
            "Epoch 88/190\n",
            "8/8 [==============================] - 0s 4ms/step - loss: 0.6209 - accuracy: 0.6884\n",
            "Epoch 89/190\n",
            "8/8 [==============================] - 0s 4ms/step - loss: 0.6207 - accuracy: 0.6884\n",
            "Epoch 90/190\n",
            "8/8 [==============================] - 0s 4ms/step - loss: 0.6208 - accuracy: 0.6884\n",
            "Epoch 91/190\n",
            "8/8 [==============================] - 0s 4ms/step - loss: 0.6208 - accuracy: 0.6884\n",
            "Epoch 92/190\n",
            "8/8 [==============================] - 0s 5ms/step - loss: 0.6210 - accuracy: 0.6884\n",
            "Epoch 93/190\n",
            "8/8 [==============================] - 0s 4ms/step - loss: 0.6207 - accuracy: 0.6884\n",
            "Epoch 94/190\n",
            "8/8 [==============================] - 0s 4ms/step - loss: 0.6220 - accuracy: 0.6884\n",
            "Epoch 95/190\n",
            "8/8 [==============================] - 0s 6ms/step - loss: 0.6232 - accuracy: 0.6884\n",
            "Epoch 96/190\n",
            "8/8 [==============================] - 0s 4ms/step - loss: 0.6207 - accuracy: 0.6884\n",
            "Epoch 97/190\n",
            "8/8 [==============================] - 0s 5ms/step - loss: 0.6209 - accuracy: 0.6884\n",
            "Epoch 98/190\n",
            "8/8 [==============================] - 0s 4ms/step - loss: 0.6213 - accuracy: 0.6884\n",
            "Epoch 99/190\n",
            "8/8 [==============================] - 0s 4ms/step - loss: 0.6207 - accuracy: 0.6884\n",
            "Epoch 100/190\n",
            "8/8 [==============================] - 0s 5ms/step - loss: 0.6206 - accuracy: 0.6884\n",
            "Epoch 101/190\n",
            "8/8 [==============================] - 0s 4ms/step - loss: 0.6210 - accuracy: 0.6884\n",
            "Epoch 102/190\n",
            "8/8 [==============================] - 0s 4ms/step - loss: 0.6208 - accuracy: 0.6884\n",
            "Epoch 103/190\n",
            "8/8 [==============================] - 0s 5ms/step - loss: 0.6215 - accuracy: 0.6884\n",
            "Epoch 104/190\n",
            "8/8 [==============================] - 0s 4ms/step - loss: 0.6208 - accuracy: 0.6884\n",
            "Epoch 105/190\n",
            "8/8 [==============================] - 0s 4ms/step - loss: 0.6212 - accuracy: 0.6884\n",
            "Epoch 106/190\n",
            "8/8 [==============================] - 0s 4ms/step - loss: 0.6206 - accuracy: 0.6884\n",
            "Epoch 107/190\n",
            "8/8 [==============================] - 0s 5ms/step - loss: 0.6219 - accuracy: 0.6884\n",
            "Epoch 108/190\n",
            "8/8 [==============================] - 0s 4ms/step - loss: 0.6204 - accuracy: 0.6884\n",
            "Epoch 109/190\n",
            "8/8 [==============================] - 0s 5ms/step - loss: 0.6214 - accuracy: 0.6884\n",
            "Epoch 110/190\n",
            "8/8 [==============================] - 0s 4ms/step - loss: 0.6215 - accuracy: 0.6884\n",
            "Epoch 111/190\n",
            "8/8 [==============================] - 0s 4ms/step - loss: 0.6207 - accuracy: 0.6884\n",
            "Epoch 112/190\n",
            "8/8 [==============================] - 0s 4ms/step - loss: 0.6209 - accuracy: 0.6884\n",
            "Epoch 113/190\n",
            "8/8 [==============================] - 0s 5ms/step - loss: 0.6225 - accuracy: 0.6884\n",
            "Epoch 114/190\n",
            "8/8 [==============================] - 0s 4ms/step - loss: 0.6210 - accuracy: 0.6884\n",
            "Epoch 115/190\n",
            "8/8 [==============================] - 0s 5ms/step - loss: 0.6209 - accuracy: 0.6884\n",
            "Epoch 116/190\n",
            "8/8 [==============================] - 0s 4ms/step - loss: 0.6212 - accuracy: 0.6884\n",
            "Epoch 117/190\n",
            "8/8 [==============================] - 0s 6ms/step - loss: 0.6210 - accuracy: 0.6884\n",
            "Epoch 118/190\n",
            "8/8 [==============================] - 0s 4ms/step - loss: 0.6208 - accuracy: 0.6884\n",
            "Epoch 119/190\n",
            "8/8 [==============================] - 0s 4ms/step - loss: 0.6210 - accuracy: 0.6884\n",
            "Epoch 120/190\n",
            "8/8 [==============================] - 0s 4ms/step - loss: 0.6215 - accuracy: 0.6884\n",
            "Epoch 121/190\n",
            "8/8 [==============================] - 0s 5ms/step - loss: 0.6209 - accuracy: 0.6884\n",
            "Epoch 122/190\n",
            "8/8 [==============================] - 0s 4ms/step - loss: 0.6211 - accuracy: 0.6884\n",
            "Epoch 123/190\n",
            "8/8 [==============================] - 0s 4ms/step - loss: 0.6208 - accuracy: 0.6884\n",
            "Epoch 124/190\n",
            "8/8 [==============================] - 0s 5ms/step - loss: 0.6211 - accuracy: 0.6884\n",
            "Epoch 125/190\n",
            "8/8 [==============================] - 0s 4ms/step - loss: 0.6206 - accuracy: 0.6884\n",
            "Epoch 126/190\n",
            "8/8 [==============================] - 0s 5ms/step - loss: 0.6211 - accuracy: 0.6884\n",
            "Epoch 127/190\n",
            "8/8 [==============================] - 0s 4ms/step - loss: 0.6217 - accuracy: 0.6884\n",
            "Epoch 128/190\n",
            "8/8 [==============================] - 0s 5ms/step - loss: 0.6214 - accuracy: 0.6884\n",
            "Epoch 129/190\n",
            "8/8 [==============================] - 0s 4ms/step - loss: 0.6209 - accuracy: 0.6884\n",
            "Epoch 130/190\n",
            "8/8 [==============================] - 0s 4ms/step - loss: 0.6205 - accuracy: 0.6884\n",
            "Epoch 131/190\n",
            "8/8 [==============================] - 0s 4ms/step - loss: 0.6218 - accuracy: 0.6884\n",
            "Epoch 132/190\n",
            "8/8 [==============================] - 0s 4ms/step - loss: 0.6203 - accuracy: 0.6884\n",
            "Epoch 133/190\n",
            "8/8 [==============================] - 0s 5ms/step - loss: 0.6208 - accuracy: 0.6884\n",
            "Epoch 134/190\n",
            "8/8 [==============================] - 0s 4ms/step - loss: 0.6207 - accuracy: 0.6884\n",
            "Epoch 135/190\n",
            "8/8 [==============================] - 0s 4ms/step - loss: 0.6209 - accuracy: 0.6884\n",
            "Epoch 136/190\n",
            "8/8 [==============================] - 0s 4ms/step - loss: 0.6209 - accuracy: 0.6884\n",
            "Epoch 137/190\n",
            "8/8 [==============================] - 0s 4ms/step - loss: 0.6212 - accuracy: 0.6884\n",
            "Epoch 138/190\n",
            "8/8 [==============================] - 0s 5ms/step - loss: 0.6206 - accuracy: 0.6884\n",
            "Epoch 139/190\n",
            "8/8 [==============================] - 0s 5ms/step - loss: 0.6206 - accuracy: 0.6884\n",
            "Epoch 140/190\n",
            "8/8 [==============================] - 0s 4ms/step - loss: 0.6205 - accuracy: 0.6884\n",
            "Epoch 141/190\n",
            "8/8 [==============================] - 0s 5ms/step - loss: 0.6207 - accuracy: 0.6884\n",
            "Epoch 142/190\n",
            "8/8 [==============================] - 0s 4ms/step - loss: 0.6211 - accuracy: 0.6884\n",
            "Epoch 143/190\n",
            "8/8 [==============================] - 0s 5ms/step - loss: 0.6218 - accuracy: 0.6884\n",
            "Epoch 144/190\n",
            "8/8 [==============================] - 0s 4ms/step - loss: 0.6212 - accuracy: 0.6884\n",
            "Epoch 145/190\n",
            "8/8 [==============================] - 0s 4ms/step - loss: 0.6208 - accuracy: 0.6884\n",
            "Epoch 146/190\n",
            "8/8 [==============================] - 0s 4ms/step - loss: 0.6205 - accuracy: 0.6884\n",
            "Epoch 147/190\n",
            "8/8 [==============================] - 0s 4ms/step - loss: 0.6230 - accuracy: 0.6884\n",
            "Epoch 148/190\n",
            "8/8 [==============================] - 0s 5ms/step - loss: 0.6213 - accuracy: 0.6884\n",
            "Epoch 149/190\n",
            "8/8 [==============================] - 0s 4ms/step - loss: 0.6217 - accuracy: 0.6884\n",
            "Epoch 150/190\n",
            "8/8 [==============================] - 0s 4ms/step - loss: 0.6208 - accuracy: 0.6884\n",
            "Epoch 151/190\n",
            "8/8 [==============================] - 0s 4ms/step - loss: 0.6207 - accuracy: 0.6884\n",
            "Epoch 152/190\n",
            "8/8 [==============================] - 0s 4ms/step - loss: 0.6211 - accuracy: 0.6884\n",
            "Epoch 153/190\n",
            "8/8 [==============================] - 0s 4ms/step - loss: 0.6207 - accuracy: 0.6884\n",
            "Epoch 154/190\n",
            "8/8 [==============================] - 0s 5ms/step - loss: 0.6209 - accuracy: 0.6884\n",
            "Epoch 155/190\n",
            "8/8 [==============================] - 0s 5ms/step - loss: 0.6213 - accuracy: 0.6884\n",
            "Epoch 156/190\n",
            "8/8 [==============================] - 0s 4ms/step - loss: 0.6220 - accuracy: 0.6884\n",
            "Epoch 157/190\n",
            "8/8 [==============================] - 0s 5ms/step - loss: 0.6211 - accuracy: 0.6884\n",
            "Epoch 158/190\n",
            "8/8 [==============================] - 0s 4ms/step - loss: 0.6205 - accuracy: 0.6884\n",
            "Epoch 159/190\n",
            "8/8 [==============================] - 0s 4ms/step - loss: 0.6207 - accuracy: 0.6884\n",
            "Epoch 160/190\n",
            "8/8 [==============================] - 0s 4ms/step - loss: 0.6209 - accuracy: 0.6884\n",
            "Epoch 161/190\n",
            "8/8 [==============================] - 0s 6ms/step - loss: 0.6209 - accuracy: 0.6884\n",
            "Epoch 162/190\n",
            "8/8 [==============================] - 0s 4ms/step - loss: 0.6205 - accuracy: 0.6884\n",
            "Epoch 163/190\n",
            "8/8 [==============================] - 0s 5ms/step - loss: 0.6209 - accuracy: 0.6884\n",
            "Epoch 164/190\n",
            "8/8 [==============================] - 0s 4ms/step - loss: 0.6207 - accuracy: 0.6884\n",
            "Epoch 165/190\n",
            "8/8 [==============================] - 0s 5ms/step - loss: 0.6202 - accuracy: 0.6884\n",
            "Epoch 166/190\n",
            "8/8 [==============================] - 0s 4ms/step - loss: 0.6207 - accuracy: 0.6884\n",
            "Epoch 167/190\n",
            "8/8 [==============================] - 0s 4ms/step - loss: 0.6210 - accuracy: 0.6884\n",
            "Epoch 168/190\n",
            "8/8 [==============================] - 0s 4ms/step - loss: 0.6204 - accuracy: 0.6884\n",
            "Epoch 169/190\n",
            "8/8 [==============================] - 0s 4ms/step - loss: 0.6213 - accuracy: 0.6884\n",
            "Epoch 170/190\n",
            "8/8 [==============================] - 0s 5ms/step - loss: 0.6210 - accuracy: 0.6884\n",
            "Epoch 171/190\n",
            "8/8 [==============================] - 0s 4ms/step - loss: 0.6209 - accuracy: 0.6884\n",
            "Epoch 172/190\n",
            "8/8 [==============================] - 0s 4ms/step - loss: 0.6211 - accuracy: 0.6884\n",
            "Epoch 173/190\n",
            "8/8 [==============================] - 0s 4ms/step - loss: 0.6212 - accuracy: 0.6884\n",
            "Epoch 174/190\n",
            "8/8 [==============================] - 0s 5ms/step - loss: 0.6207 - accuracy: 0.6884\n",
            "Epoch 175/190\n",
            "8/8 [==============================] - 0s 4ms/step - loss: 0.6206 - accuracy: 0.6884\n",
            "Epoch 176/190\n",
            "8/8 [==============================] - 0s 5ms/step - loss: 0.6206 - accuracy: 0.6884\n",
            "Epoch 177/190\n",
            "8/8 [==============================] - 0s 4ms/step - loss: 0.6206 - accuracy: 0.6884\n",
            "Epoch 178/190\n",
            "8/8 [==============================] - 0s 4ms/step - loss: 0.6213 - accuracy: 0.6884\n",
            "Epoch 179/190\n",
            "8/8 [==============================] - 0s 5ms/step - loss: 0.6208 - accuracy: 0.6884\n",
            "Epoch 180/190\n",
            "8/8 [==============================] - 0s 4ms/step - loss: 0.6215 - accuracy: 0.6884\n",
            "Epoch 181/190\n",
            "8/8 [==============================] - 0s 5ms/step - loss: 0.6207 - accuracy: 0.6884\n",
            "Epoch 182/190\n",
            "8/8 [==============================] - 0s 4ms/step - loss: 0.6207 - accuracy: 0.6884\n",
            "Epoch 183/190\n",
            "8/8 [==============================] - 0s 5ms/step - loss: 0.6206 - accuracy: 0.6884\n",
            "Epoch 184/190\n",
            "8/8 [==============================] - 0s 4ms/step - loss: 0.6209 - accuracy: 0.6884\n",
            "Epoch 185/190\n",
            "8/8 [==============================] - 0s 6ms/step - loss: 0.6218 - accuracy: 0.6884\n",
            "Epoch 186/190\n",
            "8/8 [==============================] - 0s 5ms/step - loss: 0.6208 - accuracy: 0.6884\n",
            "Epoch 187/190\n",
            "8/8 [==============================] - 0s 4ms/step - loss: 0.6204 - accuracy: 0.6884\n",
            "Epoch 188/190\n",
            "8/8 [==============================] - 0s 4ms/step - loss: 0.6211 - accuracy: 0.6884\n",
            "Epoch 189/190\n",
            "8/8 [==============================] - 0s 5ms/step - loss: 0.6207 - accuracy: 0.6884\n",
            "Epoch 190/190\n",
            "8/8 [==============================] - 0s 4ms/step - loss: 0.6206 - accuracy: 0.6884\n"
          ]
        }
      ]
    },
    {
      "cell_type": "markdown",
      "source": [
        "Let's take a look at the training history. You probably will need to adjust the parameters like learning rate, batch size, epochs, or even your NN structure. "
      ],
      "metadata": {
        "id": "q6krGf5qjtcZ"
      }
    },
    {
      "cell_type": "code",
      "source": [
        "# summarize history for loss\n",
        "plt.plot(history.history['loss'])\n",
        "plt.plot(history.history['val_loss'])\n",
        "plt.title('model loss')\n",
        "plt.ylabel('loss')\n",
        "plt.xlabel('epoch')\n",
        "plt.legend(['train', 'validation'], loc='upper left')\n",
        "plt.show()\n",
        "plt.plot(history.history['accuracy'])\n",
        "plt.plot(history.history['val_accuracy'])\n",
        "plt.title('model accuracy')\n",
        "plt.ylabel('accuracy')\n",
        "plt.xlabel('epoch')\n",
        "plt.legend(['train', 'validation'], loc='upper left')\n",
        "plt.show()\n",
        "model.evaluate(x_test,y_test)"
      ],
      "metadata": {
        "id": "8XsfrNRSDCfC",
        "colab": {
          "base_uri": "https://localhost:8080/",
          "height": 488
        },
        "outputId": "4b5a52a5-e2a2-4937-a7f8-a237222690b5"
      },
      "execution_count": null,
      "outputs": [
        {
          "output_type": "error",
          "ename": "KeyError",
          "evalue": "ignored",
          "traceback": [
            "\u001b[0;31m---------------------------------------------------------------------------\u001b[0m",
            "\u001b[0;31mKeyError\u001b[0m                                  Traceback (most recent call last)",
            "\u001b[0;32m<ipython-input-64-cdedd39be758>\u001b[0m in \u001b[0;36m<module>\u001b[0;34m()\u001b[0m\n\u001b[1;32m      1\u001b[0m \u001b[0;31m# summarize history for loss\u001b[0m\u001b[0;34m\u001b[0m\u001b[0;34m\u001b[0m\u001b[0;34m\u001b[0m\u001b[0m\n\u001b[1;32m      2\u001b[0m \u001b[0mplt\u001b[0m\u001b[0;34m.\u001b[0m\u001b[0mplot\u001b[0m\u001b[0;34m(\u001b[0m\u001b[0mhistory\u001b[0m\u001b[0;34m.\u001b[0m\u001b[0mhistory\u001b[0m\u001b[0;34m[\u001b[0m\u001b[0;34m'loss'\u001b[0m\u001b[0;34m]\u001b[0m\u001b[0;34m)\u001b[0m\u001b[0;34m\u001b[0m\u001b[0;34m\u001b[0m\u001b[0m\n\u001b[0;32m----> 3\u001b[0;31m \u001b[0mplt\u001b[0m\u001b[0;34m.\u001b[0m\u001b[0mplot\u001b[0m\u001b[0;34m(\u001b[0m\u001b[0mhistory\u001b[0m\u001b[0;34m.\u001b[0m\u001b[0mhistory\u001b[0m\u001b[0;34m[\u001b[0m\u001b[0;34m'val_loss'\u001b[0m\u001b[0;34m]\u001b[0m\u001b[0;34m)\u001b[0m\u001b[0;34m\u001b[0m\u001b[0;34m\u001b[0m\u001b[0m\n\u001b[0m\u001b[1;32m      4\u001b[0m \u001b[0mplt\u001b[0m\u001b[0;34m.\u001b[0m\u001b[0mtitle\u001b[0m\u001b[0;34m(\u001b[0m\u001b[0;34m'model loss'\u001b[0m\u001b[0;34m)\u001b[0m\u001b[0;34m\u001b[0m\u001b[0;34m\u001b[0m\u001b[0m\n\u001b[1;32m      5\u001b[0m \u001b[0mplt\u001b[0m\u001b[0;34m.\u001b[0m\u001b[0mylabel\u001b[0m\u001b[0;34m(\u001b[0m\u001b[0;34m'loss'\u001b[0m\u001b[0;34m)\u001b[0m\u001b[0;34m\u001b[0m\u001b[0;34m\u001b[0m\u001b[0m\n",
            "\u001b[0;31mKeyError\u001b[0m: 'val_loss'"
          ]
        },
        {
          "output_type": "display_data",
          "data": {
            "image/png": "[encoded data removed]",
            "text/plain": [
              "<Figure size 432x288 with 1 Axes>"
            ]
          },
          "metadata": {
            "needs_background": "light"
          }
        }
      ]
    },
    {
      "cell_type": "markdown",
      "source": [
        "After several adjustion, the results may be still unsatisfying. In this case you will need to take a closer look at your prediction and the true value to see where the problems are. Please manually examine what the mistakes are, and use the technique we learned in the most recent 2 weeks to make some synthetic data to help improve your accuracy in Section 3.4. As a reference, the best accuracy that I can find online using NN is 80%. I was able to improve it to 82.5%. See how accurate you can achieve. "
      ],
      "metadata": {
        "id": "5MaimtipkfvA"
      }
    },
    {
      "cell_type": "code",
      "source": [
        "# Getting predictions for the test set\n",
        "output = model.predict(x_test)\n",
        "threshold=0.5\n",
        "y_pred = np.where(output>=threshold,1,0)\n",
        "print((y_pred==y_test).sum()/len(y_test))\n",
        "# Getting accuracy score\n",
        "for i in range(len(x_test)):\n",
        "  if y_pred[i,:]<y_test[i,:]:\n",
        "    print(y_test[i,:],y_pred[i,:],output[i,:], x_test[i,:])"
      ],
      "metadata": {
        "id": "e1mL9rRAGAqy",
        "colab": {
          "base_uri": "https://localhost:8080/"
        },
        "outputId": "d74b2442-4373-4ae3-da63-f1b588494fd6"
      },
      "execution_count": null,
      "outputs": [
        {
          "output_type": "stream",
          "name": "stdout",
          "text": [
            "0.6829268292682927\n"
          ]
        }
      ]
    }
  ]
}